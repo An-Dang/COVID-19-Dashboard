{
 "cells": [
  {
   "cell_type": "code",
   "execution_count": 1,
   "metadata": {
    "ExecuteTime": {
     "end_time": "2020-03-17T16:34:19.414546Z",
     "start_time": "2020-03-17T16:34:16.233002Z"
    }
   },
   "outputs": [
    {
     "data": {
      "text/html": [
       "        <script type=\"text/javascript\">\n",
       "        window.PlotlyConfig = {MathJaxConfig: 'local'};\n",
       "        if (window.MathJax) {MathJax.Hub.Config({SVG: {font: \"STIX-Web\"}});}\n",
       "        if (typeof require !== 'undefined') {\n",
       "        require.undef(\"plotly\");\n",
       "        requirejs.config({\n",
       "            paths: {\n",
       "                'plotly': ['https://cdn.plot.ly/plotly-latest.min']\n",
       "            }\n",
       "        });\n",
       "        require(['plotly'], function(Plotly) {\n",
       "            window._Plotly = Plotly;\n",
       "        });\n",
       "        }\n",
       "        </script>\n",
       "        "
      ]
     },
     "metadata": {},
     "output_type": "display_data"
    }
   ],
   "source": [
    "import numpy as np\n",
    "import pandas as pd\n",
    "from pandas_summary import DataFrameSummary\n",
    "\n",
    "import matplotlib as plt\n",
    "import seaborn as sns\n",
    "\n",
    "import plotly.express as px\n",
    "import plotly.graph_objs as go\n",
    "from plotly.offline import download_plotlyjs, init_notebook_mode, plot, iplot \n",
    "\n",
    "init_notebook_mode(connected=True)\n",
    "%matplotlib inline \n",
    "\n",
    "PLOT_PATH = '/Users/andang/Documents/workspace/private/python/COVID-19-Dashboard/html-graphs/'"
   ]
  },
  {
   "cell_type": "markdown",
   "metadata": {},
   "source": [
    "# Loading Data "
   ]
  },
  {
   "cell_type": "code",
   "execution_count": 2,
   "metadata": {
    "ExecuteTime": {
     "end_time": "2020-03-17T16:34:19.599516Z",
     "start_time": "2020-03-17T16:34:19.418089Z"
    }
   },
   "outputs": [],
   "source": [
    "ts_covid_confirmed = pd.read_csv(\n",
    "    '/Users/andang/Documents/workspace/private/python/COVID-19-Dashboard/data/COVID-19/csse_covid_19_data/csse_covid_19_time_series/time_series_19-covid-Confirmed.csv')\n",
    "ts_covid_deaths = pd.read_csv(\n",
    "    '/Users/andang/Documents/workspace/private/python/COVID-19-Dashboard/data/COVID-19/csse_covid_19_data/csse_covid_19_time_series/time_series_19-covid-Deaths.csv')\n",
    "ts_covid_recovered = pd.read_csv(\n",
    "    '/Users/andang/Documents/workspace/private/python/COVID-19-Dashboard/data/COVID-19/csse_covid_19_data/csse_covid_19_time_series/time_series_19-covid-Recovered.csv')\n",
    "\n",
    "daily_report = pd.read_csv(\n",
    "    '/Users/andang/Documents/workspace/private/python/COVID-19-Dashboard/data/COVID-19/csse_covid_19_data/csse_covid_19_daily_reports/03-15-2020.csv')"
   ]
  },
  {
   "cell_type": "code",
   "execution_count": 3,
   "metadata": {
    "ExecuteTime": {
     "end_time": "2020-03-17T16:34:19.638126Z",
     "start_time": "2020-03-17T16:34:19.606103Z"
    }
   },
   "outputs": [
    {
     "data": {
      "text/html": [
       "<div>\n",
       "<style scoped>\n",
       "    .dataframe tbody tr th:only-of-type {\n",
       "        vertical-align: middle;\n",
       "    }\n",
       "\n",
       "    .dataframe tbody tr th {\n",
       "        vertical-align: top;\n",
       "    }\n",
       "\n",
       "    .dataframe thead th {\n",
       "        text-align: right;\n",
       "    }\n",
       "</style>\n",
       "<table border=\"1\" class=\"dataframe\">\n",
       "  <thead>\n",
       "    <tr style=\"text-align: right;\">\n",
       "      <th></th>\n",
       "      <th>Province/State</th>\n",
       "      <th>Country/Region</th>\n",
       "      <th>Lat</th>\n",
       "      <th>Long</th>\n",
       "      <th>1/22/20</th>\n",
       "      <th>1/23/20</th>\n",
       "      <th>1/24/20</th>\n",
       "      <th>1/25/20</th>\n",
       "      <th>1/26/20</th>\n",
       "      <th>1/27/20</th>\n",
       "      <th>...</th>\n",
       "      <th>3/7/20</th>\n",
       "      <th>3/8/20</th>\n",
       "      <th>3/9/20</th>\n",
       "      <th>3/10/20</th>\n",
       "      <th>3/11/20</th>\n",
       "      <th>3/12/20</th>\n",
       "      <th>3/13/20</th>\n",
       "      <th>3/14/20</th>\n",
       "      <th>3/15/20</th>\n",
       "      <th>3/16/20</th>\n",
       "    </tr>\n",
       "  </thead>\n",
       "  <tbody>\n",
       "    <tr>\n",
       "      <th>0</th>\n",
       "      <td>NaN</td>\n",
       "      <td>Thailand</td>\n",
       "      <td>15.0</td>\n",
       "      <td>101.0</td>\n",
       "      <td>0</td>\n",
       "      <td>0</td>\n",
       "      <td>0</td>\n",
       "      <td>0</td>\n",
       "      <td>2</td>\n",
       "      <td>2</td>\n",
       "      <td>...</td>\n",
       "      <td>31</td>\n",
       "      <td>31</td>\n",
       "      <td>31</td>\n",
       "      <td>33</td>\n",
       "      <td>34</td>\n",
       "      <td>34</td>\n",
       "      <td>35</td>\n",
       "      <td>35</td>\n",
       "      <td>35</td>\n",
       "      <td>35</td>\n",
       "    </tr>\n",
       "  </tbody>\n",
       "</table>\n",
       "<p>1 rows × 59 columns</p>\n",
       "</div>"
      ],
      "text/plain": [
       "  Province/State Country/Region   Lat   Long  1/22/20  1/23/20  1/24/20  \\\n",
       "0            NaN       Thailand  15.0  101.0        0        0        0   \n",
       "\n",
       "   1/25/20  1/26/20  1/27/20  ...  3/7/20  3/8/20  3/9/20  3/10/20  3/11/20  \\\n",
       "0        0        2        2  ...      31      31      31       33       34   \n",
       "\n",
       "   3/12/20  3/13/20  3/14/20  3/15/20  3/16/20  \n",
       "0       34       35       35       35       35  \n",
       "\n",
       "[1 rows x 59 columns]"
      ]
     },
     "execution_count": 3,
     "metadata": {},
     "output_type": "execute_result"
    }
   ],
   "source": [
    "ts_covid_recovered.head(1)"
   ]
  },
  {
   "cell_type": "markdown",
   "metadata": {},
   "source": [
    "# Functions"
   ]
  },
  {
   "cell_type": "markdown",
   "metadata": {},
   "source": [
    "# Preprocessing"
   ]
  },
  {
   "cell_type": "code",
   "execution_count": 4,
   "metadata": {
    "ExecuteTime": {
     "end_time": "2020-03-17T16:34:19.664376Z",
     "start_time": "2020-03-17T16:34:19.642450Z"
    },
    "cell_style": "center"
   },
   "outputs": [],
   "source": [
    "def sum_china(df):\n",
    "    return df.groupby(df['Country/Region'], as_index=False).sum()\n",
    "\n",
    "\n",
    "def header_to_row(df):\n",
    "    return df.melt(id_vars=['Country/Region', 'Lat', 'Long'],\n",
    "                   var_name='Date', value_name='Value').sort_values(by='Value', ascending=False)\n",
    "\n",
    "\n",
    "def top_10_countries(df):\n",
    "    grouped_df = df.groupby(df['Country/Region'],\n",
    "               as_index=False).sum().sort_values(by='Value', ascending=False)[:10]\n",
    "    \n",
    "    return grouped_df['Country/Region'].values.tolist()"
   ]
  },
  {
   "cell_type": "markdown",
   "metadata": {},
   "source": [
    "## Recovered cases"
   ]
  },
  {
   "cell_type": "code",
   "execution_count": 5,
   "metadata": {
    "ExecuteTime": {
     "end_time": "2020-03-17T16:34:19.715882Z",
     "start_time": "2020-03-17T16:34:19.676339Z"
    }
   },
   "outputs": [],
   "source": [
    "# Transformation\n",
    "transformed_covid_recov = header_to_row(sum_china(ts_covid_recovered))\n",
    "\n",
    "# Top 10 recovered countries\n",
    "countries = top_10_countries(transformed_covid_recov)"
   ]
  },
  {
   "cell_type": "markdown",
   "metadata": {},
   "source": [
    "## Confirmed cases"
   ]
  },
  {
   "cell_type": "code",
   "execution_count": 6,
   "metadata": {
    "ExecuteTime": {
     "end_time": "2020-03-17T16:34:19.744482Z",
     "start_time": "2020-03-17T16:34:19.718639Z"
    }
   },
   "outputs": [],
   "source": [
    "# Transformation\n",
    "transformed_covid_conf = header_to_row(sum_china(ts_covid_confirmed))\n",
    "\n",
    "# Top 10 recovered countries\n",
    "countries = top_10_countries(transformed_covid_conf)"
   ]
  },
  {
   "cell_type": "markdown",
   "metadata": {},
   "source": [
    "# Statistics"
   ]
  },
  {
   "cell_type": "code",
   "execution_count": 7,
   "metadata": {
    "ExecuteTime": {
     "end_time": "2020-03-17T16:34:19.781856Z",
     "start_time": "2020-03-17T16:34:19.756789Z"
    }
   },
   "outputs": [
    {
     "data": {
      "text/html": [
       "<div>\n",
       "<style scoped>\n",
       "    .dataframe tbody tr th:only-of-type {\n",
       "        vertical-align: middle;\n",
       "    }\n",
       "\n",
       "    .dataframe tbody tr th {\n",
       "        vertical-align: top;\n",
       "    }\n",
       "\n",
       "    .dataframe thead th {\n",
       "        text-align: right;\n",
       "    }\n",
       "</style>\n",
       "<table border=\"1\" class=\"dataframe\">\n",
       "  <thead>\n",
       "    <tr style=\"text-align: right;\">\n",
       "      <th></th>\n",
       "      <th>Country/Region</th>\n",
       "      <th>Lat</th>\n",
       "      <th>Long</th>\n",
       "      <th>Value</th>\n",
       "    </tr>\n",
       "  </thead>\n",
       "  <tbody>\n",
       "    <tr>\n",
       "      <th>28</th>\n",
       "      <td>China</td>\n",
       "      <td>59583.5185</td>\n",
       "      <td>202643.0835</td>\n",
       "      <td>1289825</td>\n",
       "    </tr>\n",
       "    <tr>\n",
       "      <th>68</th>\n",
       "      <td>Iran</td>\n",
       "      <td>1760.0000</td>\n",
       "      <td>2915.0000</td>\n",
       "      <td>33199</td>\n",
       "    </tr>\n",
       "    <tr>\n",
       "      <th>72</th>\n",
       "      <td>Italy</td>\n",
       "      <td>2365.0000</td>\n",
       "      <td>660.0000</td>\n",
       "      <td>14988</td>\n",
       "    </tr>\n",
       "    <tr>\n",
       "      <th>79</th>\n",
       "      <td>Korea, South</td>\n",
       "      <td>1980.0000</td>\n",
       "      <td>7040.0000</td>\n",
       "      <td>4496</td>\n",
       "    </tr>\n",
       "    <tr>\n",
       "      <th>133</th>\n",
       "      <td>Spain</td>\n",
       "      <td>2200.0000</td>\n",
       "      <td>-220.0000</td>\n",
       "      <td>2289</td>\n",
       "    </tr>\n",
       "    <tr>\n",
       "      <th>35</th>\n",
       "      <td>Cruise Ship</td>\n",
       "      <td>1949.4035</td>\n",
       "      <td>7680.0900</td>\n",
       "      <td>2244</td>\n",
       "    </tr>\n",
       "    <tr>\n",
       "      <th>128</th>\n",
       "      <td>Singapore</td>\n",
       "      <td>70.5815</td>\n",
       "      <td>5710.8315</td>\n",
       "      <td>2088</td>\n",
       "    </tr>\n",
       "    <tr>\n",
       "      <th>74</th>\n",
       "      <td>Japan</td>\n",
       "      <td>1980.0000</td>\n",
       "      <td>7590.0000</td>\n",
       "      <td>1650</td>\n",
       "    </tr>\n",
       "    <tr>\n",
       "      <th>141</th>\n",
       "      <td>Thailand</td>\n",
       "      <td>825.0000</td>\n",
       "      <td>5555.0000</td>\n",
       "      <td>934</td>\n",
       "    </tr>\n",
       "    <tr>\n",
       "      <th>88</th>\n",
       "      <td>Malaysia</td>\n",
       "      <td>137.5000</td>\n",
       "      <td>6187.5000</td>\n",
       "      <td>649</td>\n",
       "    </tr>\n",
       "  </tbody>\n",
       "</table>\n",
       "</div>"
      ],
      "text/plain": [
       "    Country/Region         Lat         Long    Value\n",
       "28           China  59583.5185  202643.0835  1289825\n",
       "68            Iran   1760.0000    2915.0000    33199\n",
       "72           Italy   2365.0000     660.0000    14988\n",
       "79    Korea, South   1980.0000    7040.0000     4496\n",
       "133          Spain   2200.0000    -220.0000     2289\n",
       "35     Cruise Ship   1949.4035    7680.0900     2244\n",
       "128      Singapore     70.5815    5710.8315     2088\n",
       "74           Japan   1980.0000    7590.0000     1650\n",
       "141       Thailand    825.0000    5555.0000      934\n",
       "88        Malaysia    137.5000    6187.5000      649"
      ]
     },
     "execution_count": 7,
     "metadata": {},
     "output_type": "execute_result"
    }
   ],
   "source": [
    "transformed_covid_recov.groupby(\n",
    "    transformed_covid_recov['Country/Region'], as_index=False).sum().sort_values(by='Value', ascending=False)[:10]"
   ]
  },
  {
   "cell_type": "code",
   "execution_count": 8,
   "metadata": {
    "ExecuteTime": {
     "end_time": "2020-03-17T16:34:19.834752Z",
     "start_time": "2020-03-17T16:34:19.798573Z"
    }
   },
   "outputs": [
    {
     "data": {
      "text/html": [
       "<div>\n",
       "<style scoped>\n",
       "    .dataframe tbody tr th:only-of-type {\n",
       "        vertical-align: middle;\n",
       "    }\n",
       "\n",
       "    .dataframe tbody tr th {\n",
       "        vertical-align: top;\n",
       "    }\n",
       "\n",
       "    .dataframe thead th {\n",
       "        text-align: right;\n",
       "    }\n",
       "</style>\n",
       "<table border=\"1\" class=\"dataframe\">\n",
       "  <thead>\n",
       "    <tr style=\"text-align: right;\">\n",
       "      <th></th>\n",
       "      <th>Country/Region</th>\n",
       "      <th>Lat</th>\n",
       "      <th>Long</th>\n",
       "      <th>Value</th>\n",
       "    </tr>\n",
       "  </thead>\n",
       "  <tbody>\n",
       "    <tr>\n",
       "      <th>28</th>\n",
       "      <td>China</td>\n",
       "      <td>59583.5185</td>\n",
       "      <td>2.026431e+05</td>\n",
       "      <td>2962462</td>\n",
       "    </tr>\n",
       "    <tr>\n",
       "      <th>72</th>\n",
       "      <td>Italy</td>\n",
       "      <td>2365.0000</td>\n",
       "      <td>6.600000e+02</td>\n",
       "      <td>170830</td>\n",
       "    </tr>\n",
       "    <tr>\n",
       "      <th>79</th>\n",
       "      <td>Korea, South</td>\n",
       "      <td>1980.0000</td>\n",
       "      <td>7.040000e+03</td>\n",
       "      <td>121156</td>\n",
       "    </tr>\n",
       "    <tr>\n",
       "      <th>68</th>\n",
       "      <td>Iran</td>\n",
       "      <td>1760.0000</td>\n",
       "      <td>2.915000e+03</td>\n",
       "      <td>117303</td>\n",
       "    </tr>\n",
       "    <tr>\n",
       "      <th>133</th>\n",
       "      <td>Spain</td>\n",
       "      <td>2200.0000</td>\n",
       "      <td>-2.200000e+02</td>\n",
       "      <td>39259</td>\n",
       "    </tr>\n",
       "    <tr>\n",
       "      <th>52</th>\n",
       "      <td>Germany</td>\n",
       "      <td>2805.0000</td>\n",
       "      <td>4.950000e+02</td>\n",
       "      <td>32263</td>\n",
       "    </tr>\n",
       "    <tr>\n",
       "      <th>48</th>\n",
       "      <td>France</td>\n",
       "      <td>3953.1305</td>\n",
       "      <td>-2.409319e+03</td>\n",
       "      <td>31338</td>\n",
       "    </tr>\n",
       "    <tr>\n",
       "      <th>35</th>\n",
       "      <td>Cruise Ship</td>\n",
       "      <td>1949.4035</td>\n",
       "      <td>7.680090e+03</td>\n",
       "      <td>21260</td>\n",
       "    </tr>\n",
       "    <tr>\n",
       "      <th>147</th>\n",
       "      <td>US</td>\n",
       "      <td>524205.1870</td>\n",
       "      <td>-1.262350e+06</td>\n",
       "      <td>20021</td>\n",
       "    </tr>\n",
       "    <tr>\n",
       "      <th>74</th>\n",
       "      <td>Japan</td>\n",
       "      <td>1980.0000</td>\n",
       "      <td>7.590000e+03</td>\n",
       "      <td>10817</td>\n",
       "    </tr>\n",
       "  </tbody>\n",
       "</table>\n",
       "</div>"
      ],
      "text/plain": [
       "    Country/Region          Lat          Long    Value\n",
       "28           China   59583.5185  2.026431e+05  2962462\n",
       "72           Italy    2365.0000  6.600000e+02   170830\n",
       "79    Korea, South    1980.0000  7.040000e+03   121156\n",
       "68            Iran    1760.0000  2.915000e+03   117303\n",
       "133          Spain    2200.0000 -2.200000e+02    39259\n",
       "52         Germany    2805.0000  4.950000e+02    32263\n",
       "48          France    3953.1305 -2.409319e+03    31338\n",
       "35     Cruise Ship    1949.4035  7.680090e+03    21260\n",
       "147             US  524205.1870 -1.262350e+06    20021\n",
       "74           Japan    1980.0000  7.590000e+03    10817"
      ]
     },
     "execution_count": 8,
     "metadata": {},
     "output_type": "execute_result"
    }
   ],
   "source": [
    "transformed_covid_conf.groupby(\n",
    "    transformed_covid_conf['Country/Region'], as_index=False).sum().sort_values(by='Value', ascending=False)[:10]"
   ]
  },
  {
   "cell_type": "code",
   "execution_count": null,
   "metadata": {},
   "outputs": [],
   "source": []
  },
  {
   "cell_type": "markdown",
   "metadata": {},
   "source": [
    "# Plots"
   ]
  },
  {
   "cell_type": "markdown",
   "metadata": {},
   "source": [
    "## Recovered"
   ]
  },
  {
   "cell_type": "markdown",
   "metadata": {},
   "source": [
    "### Top 10 Countries"
   ]
  },
  {
   "cell_type": "code",
   "execution_count": 10,
   "metadata": {
    "ExecuteTime": {
     "end_time": "2020-03-17T16:34:49.544683Z",
     "start_time": "2020-03-17T16:34:49.005943Z"
    }
   },
   "outputs": [
    {
     "data": {
      "application/vnd.plotly.v1+json": {
       "config": {
        "plotlyServerURL": "https://plot.ly"
       },
       "data": [
        {
         "name": "China",
         "opacity": 0.8,
         "type": "scatter",
         "x": [
          "3/16/20",
          "3/15/20",
          "3/14/20",
          "3/13/20",
          "3/12/20",
          "3/11/20",
          "3/10/20",
          "3/9/20",
          "3/8/20",
          "3/7/20",
          "3/6/20",
          "3/5/20",
          "3/4/20",
          "3/3/20",
          "3/2/20",
          "3/1/20",
          "2/29/20",
          "2/28/20",
          "2/27/20",
          "2/26/20",
          "2/25/20",
          "2/24/20",
          "2/23/20",
          "2/22/20",
          "2/21/20",
          "2/20/20",
          "2/19/20",
          "2/18/20",
          "2/17/20",
          "2/16/20",
          "2/15/20",
          "2/14/20",
          "2/13/20",
          "2/12/20",
          "2/11/20",
          "2/10/20",
          "2/9/20",
          "2/8/20",
          "2/7/20",
          "2/6/20",
          "2/5/20",
          "2/4/20",
          "2/3/20",
          "2/2/20",
          "2/1/20",
          "1/31/20",
          "1/30/20",
          "1/29/20",
          "1/28/20",
          "1/27/20",
          "1/26/20",
          "1/25/20",
          "1/24/20",
          "1/23/20",
          "1/22/20"
         ],
         "y": [
          67910,
          67017,
          65660,
          64196,
          62901,
          61644,
          60181,
          58804,
          57388,
          55539,
          53944,
          52292,
          50001,
          47450,
          44854,
          42162,
          39320,
          36329,
          32930,
          30084,
          27676,
          25015,
          23187,
          22699,
          18704,
          18014,
          15962,
          14206,
          12462,
          10755,
          9298,
          7977,
          6217,
          5082,
          4636,
          3918,
          3219,
          2596,
          1999,
          1477,
          1115,
          843,
          614,
          463,
          275,
          214,
          135,
          120,
          101,
          58,
          49,
          39,
          36,
          30,
          28
         ]
        },
        {
         "name": "Italy",
         "opacity": 0.8,
         "type": "scatter",
         "x": [
          "3/16/20",
          "3/15/20",
          "3/14/20",
          "3/13/20",
          "3/12/20",
          "3/11/20",
          "3/9/20",
          "3/10/20",
          "3/8/20",
          "3/7/20",
          "3/6/20",
          "3/5/20",
          "3/4/20",
          "3/3/20",
          "3/2/20",
          "3/1/20",
          "2/28/20",
          "2/29/20",
          "2/27/20",
          "2/26/20",
          "2/23/20",
          "2/25/20",
          "2/24/20",
          "2/22/20",
          "2/19/20",
          "2/21/20",
          "2/20/20",
          "1/30/20",
          "1/31/20",
          "1/29/20",
          "2/3/20",
          "2/4/20",
          "2/1/20",
          "2/2/20",
          "1/24/20",
          "1/22/20",
          "1/23/20",
          "1/27/20",
          "1/28/20",
          "1/25/20",
          "1/26/20",
          "2/14/20",
          "2/12/20",
          "2/13/20",
          "2/17/20",
          "2/18/20",
          "2/15/20",
          "2/16/20",
          "2/6/20",
          "2/7/20",
          "2/5/20",
          "2/10/20",
          "2/11/20",
          "2/8/20",
          "2/9/20"
         ],
         "y": [
          2749,
          2335,
          1966,
          1439,
          1045,
          1045,
          724,
          724,
          622,
          589,
          523,
          414,
          276,
          160,
          149,
          83,
          46,
          46,
          45,
          3,
          2,
          1,
          1,
          1,
          0,
          0,
          0,
          0,
          0,
          0,
          0,
          0,
          0,
          0,
          0,
          0,
          0,
          0,
          0,
          0,
          0,
          0,
          0,
          0,
          0,
          0,
          0,
          0,
          0,
          0,
          0,
          0,
          0,
          0,
          0
         ]
        },
        {
         "name": "Korea, South",
         "opacity": 0.8,
         "type": "scatter",
         "x": [
          "3/16/20",
          "3/14/20",
          "3/15/20",
          "3/13/20",
          "3/12/20",
          "3/11/20",
          "3/10/20",
          "3/6/20",
          "3/7/20",
          "3/8/20",
          "3/9/20",
          "3/4/20",
          "3/5/20",
          "3/2/20",
          "3/1/20",
          "3/3/20",
          "2/29/20",
          "2/25/20",
          "2/28/20",
          "2/27/20",
          "2/26/20",
          "2/23/20",
          "2/24/20",
          "2/20/20",
          "2/21/20",
          "2/22/20",
          "2/19/20",
          "2/18/20",
          "2/17/20",
          "2/15/20",
          "2/16/20",
          "2/12/20",
          "2/13/20",
          "2/14/20",
          "2/10/20",
          "2/11/20",
          "2/9/20",
          "2/8/20",
          "2/7/20",
          "1/30/20",
          "1/31/20",
          "1/29/20",
          "2/3/20",
          "2/4/20",
          "2/1/20",
          "2/2/20",
          "1/24/20",
          "1/22/20",
          "1/23/20",
          "1/27/20",
          "1/28/20",
          "1/25/20",
          "1/26/20",
          "2/6/20",
          "2/5/20"
         ],
         "y": [
          1137,
          510,
          510,
          510,
          333,
          288,
          247,
          135,
          135,
          118,
          118,
          41,
          41,
          30,
          30,
          30,
          27,
          22,
          22,
          22,
          22,
          18,
          18,
          16,
          16,
          16,
          12,
          12,
          10,
          9,
          9,
          7,
          7,
          7,
          3,
          3,
          3,
          1,
          1,
          0,
          0,
          0,
          0,
          0,
          0,
          0,
          0,
          0,
          0,
          0,
          0,
          0,
          0,
          0,
          0
         ]
        },
        {
         "name": "Iran",
         "opacity": 0.8,
         "type": "scatter",
         "x": [
          "3/15/20",
          "3/16/20",
          "3/12/20",
          "3/11/20",
          "3/13/20",
          "3/14/20",
          "3/10/20",
          "3/9/20",
          "3/8/20",
          "3/7/20",
          "3/6/20",
          "3/5/20",
          "3/4/20",
          "3/3/20",
          "3/2/20",
          "3/1/20",
          "2/29/20",
          "2/28/20",
          "2/26/20",
          "2/27/20",
          "2/19/20",
          "2/23/20",
          "2/21/20",
          "2/22/20",
          "2/25/20",
          "2/20/20",
          "2/24/20",
          "1/31/20",
          "1/30/20",
          "1/29/20",
          "2/3/20",
          "2/4/20",
          "2/1/20",
          "2/2/20",
          "1/24/20",
          "1/22/20",
          "1/23/20",
          "1/27/20",
          "1/28/20",
          "1/25/20",
          "1/26/20",
          "2/14/20",
          "2/12/20",
          "2/13/20",
          "2/17/20",
          "2/15/20",
          "2/18/20",
          "2/16/20",
          "2/6/20",
          "2/7/20",
          "2/5/20",
          "2/10/20",
          "2/11/20",
          "2/8/20",
          "2/9/20"
         ],
         "y": [
          4590,
          4590,
          2959,
          2959,
          2959,
          2959,
          2731,
          2394,
          2134,
          1669,
          913,
          739,
          552,
          291,
          291,
          175,
          123,
          73,
          49,
          49,
          0,
          0,
          0,
          0,
          0,
          0,
          0,
          0,
          0,
          0,
          0,
          0,
          0,
          0,
          0,
          0,
          0,
          0,
          0,
          0,
          0,
          0,
          0,
          0,
          0,
          0,
          0,
          0,
          0,
          0,
          0,
          0,
          0,
          0,
          0
         ]
        },
        {
         "name": "Spain",
         "opacity": 0.8,
         "type": "scatter",
         "x": [
          "3/16/20",
          "3/15/20",
          "3/14/20",
          "3/13/20",
          "3/12/20",
          "3/11/20",
          "3/10/20",
          "3/9/20",
          "3/8/20",
          "3/7/20",
          "3/6/20",
          "2/22/20",
          "3/1/20",
          "2/15/20",
          "2/18/20",
          "2/24/20",
          "2/23/20",
          "2/26/20",
          "2/16/20",
          "2/20/20",
          "2/27/20",
          "2/17/20",
          "2/21/20",
          "2/29/20",
          "2/19/20",
          "3/5/20",
          "2/25/20",
          "2/28/20",
          "3/3/20",
          "3/2/20",
          "3/4/20",
          "1/30/20",
          "1/31/20",
          "1/28/20",
          "1/29/20",
          "2/3/20",
          "2/2/20",
          "2/1/20",
          "1/23/20",
          "1/24/20",
          "1/22/20",
          "1/27/20",
          "1/25/20",
          "1/26/20",
          "2/13/20",
          "2/14/20",
          "2/11/20",
          "2/12/20",
          "2/6/20",
          "2/7/20",
          "2/4/20",
          "2/5/20",
          "2/9/20",
          "2/10/20",
          "2/8/20"
         ],
         "y": [
          530,
          517,
          517,
          193,
          183,
          183,
          32,
          32,
          30,
          30,
          2,
          2,
          2,
          2,
          2,
          2,
          2,
          2,
          2,
          2,
          2,
          2,
          2,
          2,
          2,
          2,
          2,
          2,
          2,
          2,
          2,
          0,
          0,
          0,
          0,
          0,
          0,
          0,
          0,
          0,
          0,
          0,
          0,
          0,
          0,
          0,
          0,
          0,
          0,
          0,
          0,
          0,
          0,
          0,
          0
         ]
        },
        {
         "name": "Germany",
         "opacity": 0.8,
         "type": "scatter",
         "x": [
          "3/16/20",
          "3/14/20",
          "3/13/20",
          "3/15/20",
          "3/11/20",
          "3/12/20",
          "3/10/20",
          "3/8/20",
          "3/9/20",
          "3/7/20",
          "3/6/20",
          "3/1/20",
          "2/29/20",
          "2/27/20",
          "3/4/20",
          "3/2/20",
          "2/28/20",
          "3/5/20",
          "3/3/20",
          "2/26/20",
          "2/22/20",
          "2/25/20",
          "2/24/20",
          "2/23/20",
          "2/21/20",
          "2/19/20",
          "2/18/20",
          "2/20/20",
          "2/14/20",
          "2/13/20",
          "2/16/20",
          "2/15/20",
          "2/17/20",
          "1/31/20",
          "1/29/20",
          "1/30/20",
          "2/3/20",
          "2/4/20",
          "2/1/20",
          "2/2/20",
          "1/24/20",
          "1/25/20",
          "1/22/20",
          "1/23/20",
          "1/27/20",
          "1/28/20",
          "1/26/20",
          "2/12/20",
          "2/6/20",
          "2/7/20",
          "2/5/20",
          "2/10/20",
          "2/11/20",
          "2/8/20",
          "2/9/20"
         ],
         "y": [
          67,
          46,
          46,
          46,
          25,
          25,
          18,
          18,
          18,
          18,
          17,
          16,
          16,
          16,
          16,
          16,
          16,
          16,
          16,
          15,
          14,
          14,
          14,
          14,
          14,
          12,
          12,
          12,
          1,
          1,
          1,
          1,
          1,
          0,
          0,
          0,
          0,
          0,
          0,
          0,
          0,
          0,
          0,
          0,
          0,
          0,
          0,
          0,
          0,
          0,
          0,
          0,
          0,
          0,
          0
         ]
        },
        {
         "name": "France",
         "opacity": 0.8,
         "type": "scatter",
         "x": [
          "3/10/20",
          "3/3/20",
          "3/13/20",
          "3/1/20",
          "3/14/20",
          "3/16/20",
          "3/2/20",
          "3/9/20",
          "3/11/20",
          "3/8/20",
          "3/7/20",
          "3/15/20",
          "2/29/20",
          "3/5/20",
          "3/4/20",
          "3/12/20",
          "3/6/20",
          "2/28/20",
          "2/25/20",
          "2/27/20",
          "2/26/20",
          "2/20/20",
          "2/15/20",
          "2/19/20",
          "2/16/20",
          "2/18/20",
          "2/17/20",
          "2/22/20",
          "2/24/20",
          "2/21/20",
          "2/23/20",
          "2/14/20",
          "2/12/20",
          "2/13/20",
          "1/31/20",
          "1/29/20",
          "1/30/20",
          "2/3/20",
          "2/4/20",
          "2/1/20",
          "2/2/20",
          "1/24/20",
          "1/25/20",
          "1/22/20",
          "1/23/20",
          "1/27/20",
          "1/28/20",
          "1/26/20",
          "2/7/20",
          "2/6/20",
          "2/5/20",
          "2/10/20",
          "2/11/20",
          "2/8/20",
          "2/9/20"
         ],
         "y": [
          12,
          12,
          12,
          12,
          12,
          12,
          12,
          12,
          12,
          12,
          12,
          12,
          12,
          12,
          12,
          12,
          12,
          11,
          11,
          11,
          11,
          4,
          4,
          4,
          4,
          4,
          4,
          4,
          4,
          4,
          4,
          2,
          2,
          2,
          0,
          0,
          0,
          0,
          0,
          0,
          0,
          0,
          0,
          0,
          0,
          0,
          0,
          0,
          0,
          0,
          0,
          0,
          0,
          0,
          0
         ]
        },
        {
         "name": "Cruise Ship",
         "opacity": 0.8,
         "type": "scatter",
         "x": [
          "3/15/20",
          "3/16/20",
          "3/12/20",
          "3/13/20",
          "3/11/20",
          "3/14/20",
          "3/9/20",
          "3/10/20",
          "3/6/20",
          "3/8/20",
          "3/7/20",
          "2/26/20",
          "3/1/20",
          "3/3/20",
          "2/29/20",
          "2/27/20",
          "3/5/20",
          "3/4/20",
          "3/2/20",
          "2/28/20",
          "2/20/20",
          "2/21/20",
          "2/19/20",
          "2/22/20",
          "2/23/20",
          "2/25/20",
          "2/24/20",
          "1/31/20",
          "1/29/20",
          "1/30/20",
          "2/3/20",
          "2/4/20",
          "2/1/20",
          "2/2/20",
          "1/24/20",
          "1/25/20",
          "1/22/20",
          "1/23/20",
          "1/27/20",
          "1/28/20",
          "1/26/20",
          "2/14/20",
          "2/15/20",
          "2/12/20",
          "2/13/20",
          "2/18/20",
          "2/16/20",
          "2/17/20",
          "2/7/20",
          "2/5/20",
          "2/6/20",
          "2/10/20",
          "2/11/20",
          "2/8/20",
          "2/9/20"
         ],
         "y": [
          325,
          325,
          325,
          325,
          325,
          325,
          40,
          40,
          40,
          40,
          40,
          10,
          10,
          10,
          10,
          10,
          10,
          10,
          10,
          10,
          1,
          1,
          1,
          1,
          0,
          0,
          0,
          0,
          0,
          0,
          0,
          0,
          0,
          0,
          0,
          0,
          0,
          0,
          0,
          0,
          0,
          0,
          0,
          0,
          0,
          0,
          0,
          0,
          0,
          0,
          0,
          0,
          0,
          0,
          0
         ]
        },
        {
         "name": "US",
         "opacity": 0.8,
         "type": "scatter",
         "x": [
          "3/16/20",
          "3/13/20",
          "3/12/20",
          "3/15/20",
          "3/14/20",
          "3/10/20",
          "3/11/20",
          "3/4/20",
          "2/28/20",
          "3/9/20",
          "3/1/20",
          "3/5/20",
          "3/6/20",
          "3/7/20",
          "3/2/20",
          "3/3/20",
          "3/8/20",
          "2/29/20",
          "2/27/20",
          "2/26/20",
          "2/25/20",
          "2/21/20",
          "2/23/20",
          "2/22/20",
          "2/24/20",
          "2/10/20",
          "2/13/20",
          "2/9/20",
          "2/14/20",
          "2/15/20",
          "2/12/20",
          "2/11/20",
          "2/20/20",
          "2/19/20",
          "2/18/20",
          "2/16/20",
          "2/17/20",
          "1/30/20",
          "1/31/20",
          "1/28/20",
          "1/29/20",
          "2/2/20",
          "2/3/20",
          "2/1/20",
          "1/23/20",
          "1/24/20",
          "1/22/20",
          "1/27/20",
          "1/25/20",
          "1/26/20",
          "2/6/20",
          "2/7/20",
          "2/4/20",
          "2/5/20",
          "2/8/20"
         ],
         "y": [
          17,
          12,
          12,
          12,
          12,
          8,
          8,
          7,
          7,
          7,
          7,
          7,
          7,
          7,
          7,
          7,
          7,
          7,
          6,
          6,
          6,
          5,
          5,
          5,
          5,
          3,
          3,
          3,
          3,
          3,
          3,
          3,
          3,
          3,
          3,
          3,
          3,
          0,
          0,
          0,
          0,
          0,
          0,
          0,
          0,
          0,
          0,
          0,
          0,
          0,
          0,
          0,
          0,
          0,
          0
         ]
        },
        {
         "name": "Japan",
         "opacity": 0.8,
         "type": "scatter",
         "x": [
          "3/16/20",
          "3/13/20",
          "3/12/20",
          "3/11/20",
          "3/14/20",
          "3/15/20",
          "3/10/20",
          "3/8/20",
          "3/7/20",
          "3/9/20",
          "3/6/20",
          "3/3/20",
          "3/4/20",
          "3/5/20",
          "2/29/20",
          "3/2/20",
          "3/1/20",
          "2/21/20",
          "2/23/20",
          "2/26/20",
          "2/22/20",
          "2/25/20",
          "2/27/20",
          "2/24/20",
          "2/28/20",
          "2/20/20",
          "2/19/20",
          "2/18/20",
          "2/17/20",
          "2/15/20",
          "2/16/20",
          "2/11/20",
          "2/14/20",
          "2/12/20",
          "2/13/20",
          "2/10/20",
          "1/29/20",
          "1/30/20",
          "2/9/20",
          "2/5/20",
          "2/3/20",
          "2/1/20",
          "2/2/20",
          "1/31/20",
          "2/4/20",
          "2/7/20",
          "1/26/20",
          "1/27/20",
          "2/8/20",
          "2/6/20",
          "1/28/20",
          "1/24/20",
          "1/22/20",
          "1/23/20",
          "1/25/20"
         ],
         "y": [
          144,
          118,
          118,
          118,
          118,
          118,
          101,
          76,
          76,
          76,
          46,
          43,
          43,
          43,
          32,
          32,
          32,
          22,
          22,
          22,
          22,
          22,
          22,
          22,
          22,
          18,
          18,
          13,
          12,
          12,
          12,
          9,
          9,
          9,
          9,
          4,
          1,
          1,
          1,
          1,
          1,
          1,
          1,
          1,
          1,
          1,
          1,
          1,
          1,
          1,
          1,
          0,
          0,
          0,
          0
         ]
        }
       ],
       "layout": {
        "template": {
         "data": {
          "bar": [
           {
            "error_x": {
             "color": "#2a3f5f"
            },
            "error_y": {
             "color": "#2a3f5f"
            },
            "marker": {
             "line": {
              "color": "#E5ECF6",
              "width": 0.5
             }
            },
            "type": "bar"
           }
          ],
          "barpolar": [
           {
            "marker": {
             "line": {
              "color": "#E5ECF6",
              "width": 0.5
             }
            },
            "type": "barpolar"
           }
          ],
          "carpet": [
           {
            "aaxis": {
             "endlinecolor": "#2a3f5f",
             "gridcolor": "white",
             "linecolor": "white",
             "minorgridcolor": "white",
             "startlinecolor": "#2a3f5f"
            },
            "baxis": {
             "endlinecolor": "#2a3f5f",
             "gridcolor": "white",
             "linecolor": "white",
             "minorgridcolor": "white",
             "startlinecolor": "#2a3f5f"
            },
            "type": "carpet"
           }
          ],
          "choropleth": [
           {
            "colorbar": {
             "outlinewidth": 0,
             "ticks": ""
            },
            "type": "choropleth"
           }
          ],
          "contour": [
           {
            "colorbar": {
             "outlinewidth": 0,
             "ticks": ""
            },
            "colorscale": [
             [
              0,
              "#0d0887"
             ],
             [
              0.1111111111111111,
              "#46039f"
             ],
             [
              0.2222222222222222,
              "#7201a8"
             ],
             [
              0.3333333333333333,
              "#9c179e"
             ],
             [
              0.4444444444444444,
              "#bd3786"
             ],
             [
              0.5555555555555556,
              "#d8576b"
             ],
             [
              0.6666666666666666,
              "#ed7953"
             ],
             [
              0.7777777777777778,
              "#fb9f3a"
             ],
             [
              0.8888888888888888,
              "#fdca26"
             ],
             [
              1,
              "#f0f921"
             ]
            ],
            "type": "contour"
           }
          ],
          "contourcarpet": [
           {
            "colorbar": {
             "outlinewidth": 0,
             "ticks": ""
            },
            "type": "contourcarpet"
           }
          ],
          "heatmap": [
           {
            "colorbar": {
             "outlinewidth": 0,
             "ticks": ""
            },
            "colorscale": [
             [
              0,
              "#0d0887"
             ],
             [
              0.1111111111111111,
              "#46039f"
             ],
             [
              0.2222222222222222,
              "#7201a8"
             ],
             [
              0.3333333333333333,
              "#9c179e"
             ],
             [
              0.4444444444444444,
              "#bd3786"
             ],
             [
              0.5555555555555556,
              "#d8576b"
             ],
             [
              0.6666666666666666,
              "#ed7953"
             ],
             [
              0.7777777777777778,
              "#fb9f3a"
             ],
             [
              0.8888888888888888,
              "#fdca26"
             ],
             [
              1,
              "#f0f921"
             ]
            ],
            "type": "heatmap"
           }
          ],
          "heatmapgl": [
           {
            "colorbar": {
             "outlinewidth": 0,
             "ticks": ""
            },
            "colorscale": [
             [
              0,
              "#0d0887"
             ],
             [
              0.1111111111111111,
              "#46039f"
             ],
             [
              0.2222222222222222,
              "#7201a8"
             ],
             [
              0.3333333333333333,
              "#9c179e"
             ],
             [
              0.4444444444444444,
              "#bd3786"
             ],
             [
              0.5555555555555556,
              "#d8576b"
             ],
             [
              0.6666666666666666,
              "#ed7953"
             ],
             [
              0.7777777777777778,
              "#fb9f3a"
             ],
             [
              0.8888888888888888,
              "#fdca26"
             ],
             [
              1,
              "#f0f921"
             ]
            ],
            "type": "heatmapgl"
           }
          ],
          "histogram": [
           {
            "marker": {
             "colorbar": {
              "outlinewidth": 0,
              "ticks": ""
             }
            },
            "type": "histogram"
           }
          ],
          "histogram2d": [
           {
            "colorbar": {
             "outlinewidth": 0,
             "ticks": ""
            },
            "colorscale": [
             [
              0,
              "#0d0887"
             ],
             [
              0.1111111111111111,
              "#46039f"
             ],
             [
              0.2222222222222222,
              "#7201a8"
             ],
             [
              0.3333333333333333,
              "#9c179e"
             ],
             [
              0.4444444444444444,
              "#bd3786"
             ],
             [
              0.5555555555555556,
              "#d8576b"
             ],
             [
              0.6666666666666666,
              "#ed7953"
             ],
             [
              0.7777777777777778,
              "#fb9f3a"
             ],
             [
              0.8888888888888888,
              "#fdca26"
             ],
             [
              1,
              "#f0f921"
             ]
            ],
            "type": "histogram2d"
           }
          ],
          "histogram2dcontour": [
           {
            "colorbar": {
             "outlinewidth": 0,
             "ticks": ""
            },
            "colorscale": [
             [
              0,
              "#0d0887"
             ],
             [
              0.1111111111111111,
              "#46039f"
             ],
             [
              0.2222222222222222,
              "#7201a8"
             ],
             [
              0.3333333333333333,
              "#9c179e"
             ],
             [
              0.4444444444444444,
              "#bd3786"
             ],
             [
              0.5555555555555556,
              "#d8576b"
             ],
             [
              0.6666666666666666,
              "#ed7953"
             ],
             [
              0.7777777777777778,
              "#fb9f3a"
             ],
             [
              0.8888888888888888,
              "#fdca26"
             ],
             [
              1,
              "#f0f921"
             ]
            ],
            "type": "histogram2dcontour"
           }
          ],
          "mesh3d": [
           {
            "colorbar": {
             "outlinewidth": 0,
             "ticks": ""
            },
            "type": "mesh3d"
           }
          ],
          "parcoords": [
           {
            "line": {
             "colorbar": {
              "outlinewidth": 0,
              "ticks": ""
             }
            },
            "type": "parcoords"
           }
          ],
          "pie": [
           {
            "automargin": true,
            "type": "pie"
           }
          ],
          "scatter": [
           {
            "marker": {
             "colorbar": {
              "outlinewidth": 0,
              "ticks": ""
             }
            },
            "type": "scatter"
           }
          ],
          "scatter3d": [
           {
            "line": {
             "colorbar": {
              "outlinewidth": 0,
              "ticks": ""
             }
            },
            "marker": {
             "colorbar": {
              "outlinewidth": 0,
              "ticks": ""
             }
            },
            "type": "scatter3d"
           }
          ],
          "scattercarpet": [
           {
            "marker": {
             "colorbar": {
              "outlinewidth": 0,
              "ticks": ""
             }
            },
            "type": "scattercarpet"
           }
          ],
          "scattergeo": [
           {
            "marker": {
             "colorbar": {
              "outlinewidth": 0,
              "ticks": ""
             }
            },
            "type": "scattergeo"
           }
          ],
          "scattergl": [
           {
            "marker": {
             "colorbar": {
              "outlinewidth": 0,
              "ticks": ""
             }
            },
            "type": "scattergl"
           }
          ],
          "scattermapbox": [
           {
            "marker": {
             "colorbar": {
              "outlinewidth": 0,
              "ticks": ""
             }
            },
            "type": "scattermapbox"
           }
          ],
          "scatterpolar": [
           {
            "marker": {
             "colorbar": {
              "outlinewidth": 0,
              "ticks": ""
             }
            },
            "type": "scatterpolar"
           }
          ],
          "scatterpolargl": [
           {
            "marker": {
             "colorbar": {
              "outlinewidth": 0,
              "ticks": ""
             }
            },
            "type": "scatterpolargl"
           }
          ],
          "scatterternary": [
           {
            "marker": {
             "colorbar": {
              "outlinewidth": 0,
              "ticks": ""
             }
            },
            "type": "scatterternary"
           }
          ],
          "surface": [
           {
            "colorbar": {
             "outlinewidth": 0,
             "ticks": ""
            },
            "colorscale": [
             [
              0,
              "#0d0887"
             ],
             [
              0.1111111111111111,
              "#46039f"
             ],
             [
              0.2222222222222222,
              "#7201a8"
             ],
             [
              0.3333333333333333,
              "#9c179e"
             ],
             [
              0.4444444444444444,
              "#bd3786"
             ],
             [
              0.5555555555555556,
              "#d8576b"
             ],
             [
              0.6666666666666666,
              "#ed7953"
             ],
             [
              0.7777777777777778,
              "#fb9f3a"
             ],
             [
              0.8888888888888888,
              "#fdca26"
             ],
             [
              1,
              "#f0f921"
             ]
            ],
            "type": "surface"
           }
          ],
          "table": [
           {
            "cells": {
             "fill": {
              "color": "#EBF0F8"
             },
             "line": {
              "color": "white"
             }
            },
            "header": {
             "fill": {
              "color": "#C8D4E3"
             },
             "line": {
              "color": "white"
             }
            },
            "type": "table"
           }
          ]
         },
         "layout": {
          "annotationdefaults": {
           "arrowcolor": "#2a3f5f",
           "arrowhead": 0,
           "arrowwidth": 1
          },
          "coloraxis": {
           "colorbar": {
            "outlinewidth": 0,
            "ticks": ""
           }
          },
          "colorscale": {
           "diverging": [
            [
             0,
             "#8e0152"
            ],
            [
             0.1,
             "#c51b7d"
            ],
            [
             0.2,
             "#de77ae"
            ],
            [
             0.3,
             "#f1b6da"
            ],
            [
             0.4,
             "#fde0ef"
            ],
            [
             0.5,
             "#f7f7f7"
            ],
            [
             0.6,
             "#e6f5d0"
            ],
            [
             0.7,
             "#b8e186"
            ],
            [
             0.8,
             "#7fbc41"
            ],
            [
             0.9,
             "#4d9221"
            ],
            [
             1,
             "#276419"
            ]
           ],
           "sequential": [
            [
             0,
             "#0d0887"
            ],
            [
             0.1111111111111111,
             "#46039f"
            ],
            [
             0.2222222222222222,
             "#7201a8"
            ],
            [
             0.3333333333333333,
             "#9c179e"
            ],
            [
             0.4444444444444444,
             "#bd3786"
            ],
            [
             0.5555555555555556,
             "#d8576b"
            ],
            [
             0.6666666666666666,
             "#ed7953"
            ],
            [
             0.7777777777777778,
             "#fb9f3a"
            ],
            [
             0.8888888888888888,
             "#fdca26"
            ],
            [
             1,
             "#f0f921"
            ]
           ],
           "sequentialminus": [
            [
             0,
             "#0d0887"
            ],
            [
             0.1111111111111111,
             "#46039f"
            ],
            [
             0.2222222222222222,
             "#7201a8"
            ],
            [
             0.3333333333333333,
             "#9c179e"
            ],
            [
             0.4444444444444444,
             "#bd3786"
            ],
            [
             0.5555555555555556,
             "#d8576b"
            ],
            [
             0.6666666666666666,
             "#ed7953"
            ],
            [
             0.7777777777777778,
             "#fb9f3a"
            ],
            [
             0.8888888888888888,
             "#fdca26"
            ],
            [
             1,
             "#f0f921"
            ]
           ]
          },
          "colorway": [
           "#636efa",
           "#EF553B",
           "#00cc96",
           "#ab63fa",
           "#FFA15A",
           "#19d3f3",
           "#FF6692",
           "#B6E880",
           "#FF97FF",
           "#FECB52"
          ],
          "font": {
           "color": "#2a3f5f"
          },
          "geo": {
           "bgcolor": "white",
           "lakecolor": "white",
           "landcolor": "#E5ECF6",
           "showlakes": true,
           "showland": true,
           "subunitcolor": "white"
          },
          "hoverlabel": {
           "align": "left"
          },
          "hovermode": "closest",
          "mapbox": {
           "style": "light"
          },
          "paper_bgcolor": "white",
          "plot_bgcolor": "#E5ECF6",
          "polar": {
           "angularaxis": {
            "gridcolor": "white",
            "linecolor": "white",
            "ticks": ""
           },
           "bgcolor": "#E5ECF6",
           "radialaxis": {
            "gridcolor": "white",
            "linecolor": "white",
            "ticks": ""
           }
          },
          "scene": {
           "xaxis": {
            "backgroundcolor": "#E5ECF6",
            "gridcolor": "white",
            "gridwidth": 2,
            "linecolor": "white",
            "showbackground": true,
            "ticks": "",
            "zerolinecolor": "white"
           },
           "yaxis": {
            "backgroundcolor": "#E5ECF6",
            "gridcolor": "white",
            "gridwidth": 2,
            "linecolor": "white",
            "showbackground": true,
            "ticks": "",
            "zerolinecolor": "white"
           },
           "zaxis": {
            "backgroundcolor": "#E5ECF6",
            "gridcolor": "white",
            "gridwidth": 2,
            "linecolor": "white",
            "showbackground": true,
            "ticks": "",
            "zerolinecolor": "white"
           }
          },
          "shapedefaults": {
           "line": {
            "color": "#2a3f5f"
           }
          },
          "ternary": {
           "aaxis": {
            "gridcolor": "white",
            "linecolor": "white",
            "ticks": ""
           },
           "baxis": {
            "gridcolor": "white",
            "linecolor": "white",
            "ticks": ""
           },
           "bgcolor": "#E5ECF6",
           "caxis": {
            "gridcolor": "white",
            "linecolor": "white",
            "ticks": ""
           }
          },
          "title": {
           "x": 0.05
          },
          "xaxis": {
           "automargin": true,
           "gridcolor": "white",
           "linecolor": "white",
           "ticks": "",
           "title": {
            "standoff": 15
           },
           "zerolinecolor": "white",
           "zerolinewidth": 2
          },
          "yaxis": {
           "automargin": true,
           "gridcolor": "white",
           "linecolor": "white",
           "ticks": "",
           "title": {
            "standoff": 15
           },
           "zerolinecolor": "white",
           "zerolinewidth": 2
          }
         }
        },
        "title": {
         "text": "Top 10 recovered countries"
        },
        "xaxis": {
         "autorange": "reversed"
        }
       }
      },
      "text/html": [
       "<div>\n",
       "        \n",
       "        \n",
       "            <div id=\"be5c2f39-e1ca-4128-9585-a30d5b4bee1a\" class=\"plotly-graph-div\" style=\"height:525px; width:100%;\"></div>\n",
       "            <script type=\"text/javascript\">\n",
       "                require([\"plotly\"], function(Plotly) {\n",
       "                    window.PLOTLYENV=window.PLOTLYENV || {};\n",
       "                    \n",
       "                if (document.getElementById(\"be5c2f39-e1ca-4128-9585-a30d5b4bee1a\")) {\n",
       "                    Plotly.newPlot(\n",
       "                        'be5c2f39-e1ca-4128-9585-a30d5b4bee1a',\n",
       "                        [{\"name\": \"China\", \"opacity\": 0.8, \"type\": \"scatter\", \"x\": [\"3/16/20\", \"3/15/20\", \"3/14/20\", \"3/13/20\", \"3/12/20\", \"3/11/20\", \"3/10/20\", \"3/9/20\", \"3/8/20\", \"3/7/20\", \"3/6/20\", \"3/5/20\", \"3/4/20\", \"3/3/20\", \"3/2/20\", \"3/1/20\", \"2/29/20\", \"2/28/20\", \"2/27/20\", \"2/26/20\", \"2/25/20\", \"2/24/20\", \"2/23/20\", \"2/22/20\", \"2/21/20\", \"2/20/20\", \"2/19/20\", \"2/18/20\", \"2/17/20\", \"2/16/20\", \"2/15/20\", \"2/14/20\", \"2/13/20\", \"2/12/20\", \"2/11/20\", \"2/10/20\", \"2/9/20\", \"2/8/20\", \"2/7/20\", \"2/6/20\", \"2/5/20\", \"2/4/20\", \"2/3/20\", \"2/2/20\", \"2/1/20\", \"1/31/20\", \"1/30/20\", \"1/29/20\", \"1/28/20\", \"1/27/20\", \"1/26/20\", \"1/25/20\", \"1/24/20\", \"1/23/20\", \"1/22/20\"], \"y\": [67910, 67017, 65660, 64196, 62901, 61644, 60181, 58804, 57388, 55539, 53944, 52292, 50001, 47450, 44854, 42162, 39320, 36329, 32930, 30084, 27676, 25015, 23187, 22699, 18704, 18014, 15962, 14206, 12462, 10755, 9298, 7977, 6217, 5082, 4636, 3918, 3219, 2596, 1999, 1477, 1115, 843, 614, 463, 275, 214, 135, 120, 101, 58, 49, 39, 36, 30, 28]}, {\"name\": \"Italy\", \"opacity\": 0.8, \"type\": \"scatter\", \"x\": [\"3/16/20\", \"3/15/20\", \"3/14/20\", \"3/13/20\", \"3/12/20\", \"3/11/20\", \"3/9/20\", \"3/10/20\", \"3/8/20\", \"3/7/20\", \"3/6/20\", \"3/5/20\", \"3/4/20\", \"3/3/20\", \"3/2/20\", \"3/1/20\", \"2/28/20\", \"2/29/20\", \"2/27/20\", \"2/26/20\", \"2/23/20\", \"2/25/20\", \"2/24/20\", \"2/22/20\", \"2/19/20\", \"2/21/20\", \"2/20/20\", \"1/30/20\", \"1/31/20\", \"1/29/20\", \"2/3/20\", \"2/4/20\", \"2/1/20\", \"2/2/20\", \"1/24/20\", \"1/22/20\", \"1/23/20\", \"1/27/20\", \"1/28/20\", \"1/25/20\", \"1/26/20\", \"2/14/20\", \"2/12/20\", \"2/13/20\", \"2/17/20\", \"2/18/20\", \"2/15/20\", \"2/16/20\", \"2/6/20\", \"2/7/20\", \"2/5/20\", \"2/10/20\", \"2/11/20\", \"2/8/20\", \"2/9/20\"], \"y\": [2749, 2335, 1966, 1439, 1045, 1045, 724, 724, 622, 589, 523, 414, 276, 160, 149, 83, 46, 46, 45, 3, 2, 1, 1, 1, 0, 0, 0, 0, 0, 0, 0, 0, 0, 0, 0, 0, 0, 0, 0, 0, 0, 0, 0, 0, 0, 0, 0, 0, 0, 0, 0, 0, 0, 0, 0]}, {\"name\": \"Korea, South\", \"opacity\": 0.8, \"type\": \"scatter\", \"x\": [\"3/16/20\", \"3/14/20\", \"3/15/20\", \"3/13/20\", \"3/12/20\", \"3/11/20\", \"3/10/20\", \"3/6/20\", \"3/7/20\", \"3/8/20\", \"3/9/20\", \"3/4/20\", \"3/5/20\", \"3/2/20\", \"3/1/20\", \"3/3/20\", \"2/29/20\", \"2/25/20\", \"2/28/20\", \"2/27/20\", \"2/26/20\", \"2/23/20\", \"2/24/20\", \"2/20/20\", \"2/21/20\", \"2/22/20\", \"2/19/20\", \"2/18/20\", \"2/17/20\", \"2/15/20\", \"2/16/20\", \"2/12/20\", \"2/13/20\", \"2/14/20\", \"2/10/20\", \"2/11/20\", \"2/9/20\", \"2/8/20\", \"2/7/20\", \"1/30/20\", \"1/31/20\", \"1/29/20\", \"2/3/20\", \"2/4/20\", \"2/1/20\", \"2/2/20\", \"1/24/20\", \"1/22/20\", \"1/23/20\", \"1/27/20\", \"1/28/20\", \"1/25/20\", \"1/26/20\", \"2/6/20\", \"2/5/20\"], \"y\": [1137, 510, 510, 510, 333, 288, 247, 135, 135, 118, 118, 41, 41, 30, 30, 30, 27, 22, 22, 22, 22, 18, 18, 16, 16, 16, 12, 12, 10, 9, 9, 7, 7, 7, 3, 3, 3, 1, 1, 0, 0, 0, 0, 0, 0, 0, 0, 0, 0, 0, 0, 0, 0, 0, 0]}, {\"name\": \"Iran\", \"opacity\": 0.8, \"type\": \"scatter\", \"x\": [\"3/15/20\", \"3/16/20\", \"3/12/20\", \"3/11/20\", \"3/13/20\", \"3/14/20\", \"3/10/20\", \"3/9/20\", \"3/8/20\", \"3/7/20\", \"3/6/20\", \"3/5/20\", \"3/4/20\", \"3/3/20\", \"3/2/20\", \"3/1/20\", \"2/29/20\", \"2/28/20\", \"2/26/20\", \"2/27/20\", \"2/19/20\", \"2/23/20\", \"2/21/20\", \"2/22/20\", \"2/25/20\", \"2/20/20\", \"2/24/20\", \"1/31/20\", \"1/30/20\", \"1/29/20\", \"2/3/20\", \"2/4/20\", \"2/1/20\", \"2/2/20\", \"1/24/20\", \"1/22/20\", \"1/23/20\", \"1/27/20\", \"1/28/20\", \"1/25/20\", \"1/26/20\", \"2/14/20\", \"2/12/20\", \"2/13/20\", \"2/17/20\", \"2/15/20\", \"2/18/20\", \"2/16/20\", \"2/6/20\", \"2/7/20\", \"2/5/20\", \"2/10/20\", \"2/11/20\", \"2/8/20\", \"2/9/20\"], \"y\": [4590, 4590, 2959, 2959, 2959, 2959, 2731, 2394, 2134, 1669, 913, 739, 552, 291, 291, 175, 123, 73, 49, 49, 0, 0, 0, 0, 0, 0, 0, 0, 0, 0, 0, 0, 0, 0, 0, 0, 0, 0, 0, 0, 0, 0, 0, 0, 0, 0, 0, 0, 0, 0, 0, 0, 0, 0, 0]}, {\"name\": \"Spain\", \"opacity\": 0.8, \"type\": \"scatter\", \"x\": [\"3/16/20\", \"3/15/20\", \"3/14/20\", \"3/13/20\", \"3/12/20\", \"3/11/20\", \"3/10/20\", \"3/9/20\", \"3/8/20\", \"3/7/20\", \"3/6/20\", \"2/22/20\", \"3/1/20\", \"2/15/20\", \"2/18/20\", \"2/24/20\", \"2/23/20\", \"2/26/20\", \"2/16/20\", \"2/20/20\", \"2/27/20\", \"2/17/20\", \"2/21/20\", \"2/29/20\", \"2/19/20\", \"3/5/20\", \"2/25/20\", \"2/28/20\", \"3/3/20\", \"3/2/20\", \"3/4/20\", \"1/30/20\", \"1/31/20\", \"1/28/20\", \"1/29/20\", \"2/3/20\", \"2/2/20\", \"2/1/20\", \"1/23/20\", \"1/24/20\", \"1/22/20\", \"1/27/20\", \"1/25/20\", \"1/26/20\", \"2/13/20\", \"2/14/20\", \"2/11/20\", \"2/12/20\", \"2/6/20\", \"2/7/20\", \"2/4/20\", \"2/5/20\", \"2/9/20\", \"2/10/20\", \"2/8/20\"], \"y\": [530, 517, 517, 193, 183, 183, 32, 32, 30, 30, 2, 2, 2, 2, 2, 2, 2, 2, 2, 2, 2, 2, 2, 2, 2, 2, 2, 2, 2, 2, 2, 0, 0, 0, 0, 0, 0, 0, 0, 0, 0, 0, 0, 0, 0, 0, 0, 0, 0, 0, 0, 0, 0, 0, 0]}, {\"name\": \"Germany\", \"opacity\": 0.8, \"type\": \"scatter\", \"x\": [\"3/16/20\", \"3/14/20\", \"3/13/20\", \"3/15/20\", \"3/11/20\", \"3/12/20\", \"3/10/20\", \"3/8/20\", \"3/9/20\", \"3/7/20\", \"3/6/20\", \"3/1/20\", \"2/29/20\", \"2/27/20\", \"3/4/20\", \"3/2/20\", \"2/28/20\", \"3/5/20\", \"3/3/20\", \"2/26/20\", \"2/22/20\", \"2/25/20\", \"2/24/20\", \"2/23/20\", \"2/21/20\", \"2/19/20\", \"2/18/20\", \"2/20/20\", \"2/14/20\", \"2/13/20\", \"2/16/20\", \"2/15/20\", \"2/17/20\", \"1/31/20\", \"1/29/20\", \"1/30/20\", \"2/3/20\", \"2/4/20\", \"2/1/20\", \"2/2/20\", \"1/24/20\", \"1/25/20\", \"1/22/20\", \"1/23/20\", \"1/27/20\", \"1/28/20\", \"1/26/20\", \"2/12/20\", \"2/6/20\", \"2/7/20\", \"2/5/20\", \"2/10/20\", \"2/11/20\", \"2/8/20\", \"2/9/20\"], \"y\": [67, 46, 46, 46, 25, 25, 18, 18, 18, 18, 17, 16, 16, 16, 16, 16, 16, 16, 16, 15, 14, 14, 14, 14, 14, 12, 12, 12, 1, 1, 1, 1, 1, 0, 0, 0, 0, 0, 0, 0, 0, 0, 0, 0, 0, 0, 0, 0, 0, 0, 0, 0, 0, 0, 0]}, {\"name\": \"France\", \"opacity\": 0.8, \"type\": \"scatter\", \"x\": [\"3/10/20\", \"3/3/20\", \"3/13/20\", \"3/1/20\", \"3/14/20\", \"3/16/20\", \"3/2/20\", \"3/9/20\", \"3/11/20\", \"3/8/20\", \"3/7/20\", \"3/15/20\", \"2/29/20\", \"3/5/20\", \"3/4/20\", \"3/12/20\", \"3/6/20\", \"2/28/20\", \"2/25/20\", \"2/27/20\", \"2/26/20\", \"2/20/20\", \"2/15/20\", \"2/19/20\", \"2/16/20\", \"2/18/20\", \"2/17/20\", \"2/22/20\", \"2/24/20\", \"2/21/20\", \"2/23/20\", \"2/14/20\", \"2/12/20\", \"2/13/20\", \"1/31/20\", \"1/29/20\", \"1/30/20\", \"2/3/20\", \"2/4/20\", \"2/1/20\", \"2/2/20\", \"1/24/20\", \"1/25/20\", \"1/22/20\", \"1/23/20\", \"1/27/20\", \"1/28/20\", \"1/26/20\", \"2/7/20\", \"2/6/20\", \"2/5/20\", \"2/10/20\", \"2/11/20\", \"2/8/20\", \"2/9/20\"], \"y\": [12, 12, 12, 12, 12, 12, 12, 12, 12, 12, 12, 12, 12, 12, 12, 12, 12, 11, 11, 11, 11, 4, 4, 4, 4, 4, 4, 4, 4, 4, 4, 2, 2, 2, 0, 0, 0, 0, 0, 0, 0, 0, 0, 0, 0, 0, 0, 0, 0, 0, 0, 0, 0, 0, 0]}, {\"name\": \"Cruise Ship\", \"opacity\": 0.8, \"type\": \"scatter\", \"x\": [\"3/15/20\", \"3/16/20\", \"3/12/20\", \"3/13/20\", \"3/11/20\", \"3/14/20\", \"3/9/20\", \"3/10/20\", \"3/6/20\", \"3/8/20\", \"3/7/20\", \"2/26/20\", \"3/1/20\", \"3/3/20\", \"2/29/20\", \"2/27/20\", \"3/5/20\", \"3/4/20\", \"3/2/20\", \"2/28/20\", \"2/20/20\", \"2/21/20\", \"2/19/20\", \"2/22/20\", \"2/23/20\", \"2/25/20\", \"2/24/20\", \"1/31/20\", \"1/29/20\", \"1/30/20\", \"2/3/20\", \"2/4/20\", \"2/1/20\", \"2/2/20\", \"1/24/20\", \"1/25/20\", \"1/22/20\", \"1/23/20\", \"1/27/20\", \"1/28/20\", \"1/26/20\", \"2/14/20\", \"2/15/20\", \"2/12/20\", \"2/13/20\", \"2/18/20\", \"2/16/20\", \"2/17/20\", \"2/7/20\", \"2/5/20\", \"2/6/20\", \"2/10/20\", \"2/11/20\", \"2/8/20\", \"2/9/20\"], \"y\": [325, 325, 325, 325, 325, 325, 40, 40, 40, 40, 40, 10, 10, 10, 10, 10, 10, 10, 10, 10, 1, 1, 1, 1, 0, 0, 0, 0, 0, 0, 0, 0, 0, 0, 0, 0, 0, 0, 0, 0, 0, 0, 0, 0, 0, 0, 0, 0, 0, 0, 0, 0, 0, 0, 0]}, {\"name\": \"US\", \"opacity\": 0.8, \"type\": \"scatter\", \"x\": [\"3/16/20\", \"3/13/20\", \"3/12/20\", \"3/15/20\", \"3/14/20\", \"3/10/20\", \"3/11/20\", \"3/4/20\", \"2/28/20\", \"3/9/20\", \"3/1/20\", \"3/5/20\", \"3/6/20\", \"3/7/20\", \"3/2/20\", \"3/3/20\", \"3/8/20\", \"2/29/20\", \"2/27/20\", \"2/26/20\", \"2/25/20\", \"2/21/20\", \"2/23/20\", \"2/22/20\", \"2/24/20\", \"2/10/20\", \"2/13/20\", \"2/9/20\", \"2/14/20\", \"2/15/20\", \"2/12/20\", \"2/11/20\", \"2/20/20\", \"2/19/20\", \"2/18/20\", \"2/16/20\", \"2/17/20\", \"1/30/20\", \"1/31/20\", \"1/28/20\", \"1/29/20\", \"2/2/20\", \"2/3/20\", \"2/1/20\", \"1/23/20\", \"1/24/20\", \"1/22/20\", \"1/27/20\", \"1/25/20\", \"1/26/20\", \"2/6/20\", \"2/7/20\", \"2/4/20\", \"2/5/20\", \"2/8/20\"], \"y\": [17, 12, 12, 12, 12, 8, 8, 7, 7, 7, 7, 7, 7, 7, 7, 7, 7, 7, 6, 6, 6, 5, 5, 5, 5, 3, 3, 3, 3, 3, 3, 3, 3, 3, 3, 3, 3, 0, 0, 0, 0, 0, 0, 0, 0, 0, 0, 0, 0, 0, 0, 0, 0, 0, 0]}, {\"name\": \"Japan\", \"opacity\": 0.8, \"type\": \"scatter\", \"x\": [\"3/16/20\", \"3/13/20\", \"3/12/20\", \"3/11/20\", \"3/14/20\", \"3/15/20\", \"3/10/20\", \"3/8/20\", \"3/7/20\", \"3/9/20\", \"3/6/20\", \"3/3/20\", \"3/4/20\", \"3/5/20\", \"2/29/20\", \"3/2/20\", \"3/1/20\", \"2/21/20\", \"2/23/20\", \"2/26/20\", \"2/22/20\", \"2/25/20\", \"2/27/20\", \"2/24/20\", \"2/28/20\", \"2/20/20\", \"2/19/20\", \"2/18/20\", \"2/17/20\", \"2/15/20\", \"2/16/20\", \"2/11/20\", \"2/14/20\", \"2/12/20\", \"2/13/20\", \"2/10/20\", \"1/29/20\", \"1/30/20\", \"2/9/20\", \"2/5/20\", \"2/3/20\", \"2/1/20\", \"2/2/20\", \"1/31/20\", \"2/4/20\", \"2/7/20\", \"1/26/20\", \"1/27/20\", \"2/8/20\", \"2/6/20\", \"1/28/20\", \"1/24/20\", \"1/22/20\", \"1/23/20\", \"1/25/20\"], \"y\": [144, 118, 118, 118, 118, 118, 101, 76, 76, 76, 46, 43, 43, 43, 32, 32, 32, 22, 22, 22, 22, 22, 22, 22, 22, 18, 18, 13, 12, 12, 12, 9, 9, 9, 9, 4, 1, 1, 1, 1, 1, 1, 1, 1, 1, 1, 1, 1, 1, 1, 1, 0, 0, 0, 0]}],\n",
       "                        {\"template\": {\"data\": {\"bar\": [{\"error_x\": {\"color\": \"#2a3f5f\"}, \"error_y\": {\"color\": \"#2a3f5f\"}, \"marker\": {\"line\": {\"color\": \"#E5ECF6\", \"width\": 0.5}}, \"type\": \"bar\"}], \"barpolar\": [{\"marker\": {\"line\": {\"color\": \"#E5ECF6\", \"width\": 0.5}}, \"type\": \"barpolar\"}], \"carpet\": [{\"aaxis\": {\"endlinecolor\": \"#2a3f5f\", \"gridcolor\": \"white\", \"linecolor\": \"white\", \"minorgridcolor\": \"white\", \"startlinecolor\": \"#2a3f5f\"}, \"baxis\": {\"endlinecolor\": \"#2a3f5f\", \"gridcolor\": \"white\", \"linecolor\": \"white\", \"minorgridcolor\": \"white\", \"startlinecolor\": \"#2a3f5f\"}, \"type\": \"carpet\"}], \"choropleth\": [{\"colorbar\": {\"outlinewidth\": 0, \"ticks\": \"\"}, \"type\": \"choropleth\"}], \"contour\": [{\"colorbar\": {\"outlinewidth\": 0, \"ticks\": \"\"}, \"colorscale\": [[0.0, \"#0d0887\"], [0.1111111111111111, \"#46039f\"], [0.2222222222222222, \"#7201a8\"], [0.3333333333333333, \"#9c179e\"], [0.4444444444444444, \"#bd3786\"], [0.5555555555555556, \"#d8576b\"], [0.6666666666666666, \"#ed7953\"], [0.7777777777777778, \"#fb9f3a\"], [0.8888888888888888, \"#fdca26\"], [1.0, \"#f0f921\"]], \"type\": \"contour\"}], \"contourcarpet\": [{\"colorbar\": {\"outlinewidth\": 0, \"ticks\": \"\"}, \"type\": \"contourcarpet\"}], \"heatmap\": [{\"colorbar\": {\"outlinewidth\": 0, \"ticks\": \"\"}, \"colorscale\": [[0.0, \"#0d0887\"], [0.1111111111111111, \"#46039f\"], [0.2222222222222222, \"#7201a8\"], [0.3333333333333333, \"#9c179e\"], [0.4444444444444444, \"#bd3786\"], [0.5555555555555556, \"#d8576b\"], [0.6666666666666666, \"#ed7953\"], [0.7777777777777778, \"#fb9f3a\"], [0.8888888888888888, \"#fdca26\"], [1.0, \"#f0f921\"]], \"type\": \"heatmap\"}], \"heatmapgl\": [{\"colorbar\": {\"outlinewidth\": 0, \"ticks\": \"\"}, \"colorscale\": [[0.0, \"#0d0887\"], [0.1111111111111111, \"#46039f\"], [0.2222222222222222, \"#7201a8\"], [0.3333333333333333, \"#9c179e\"], [0.4444444444444444, \"#bd3786\"], [0.5555555555555556, \"#d8576b\"], [0.6666666666666666, \"#ed7953\"], [0.7777777777777778, \"#fb9f3a\"], [0.8888888888888888, \"#fdca26\"], [1.0, \"#f0f921\"]], \"type\": \"heatmapgl\"}], \"histogram\": [{\"marker\": {\"colorbar\": {\"outlinewidth\": 0, \"ticks\": \"\"}}, \"type\": \"histogram\"}], \"histogram2d\": [{\"colorbar\": {\"outlinewidth\": 0, \"ticks\": \"\"}, \"colorscale\": [[0.0, \"#0d0887\"], [0.1111111111111111, \"#46039f\"], [0.2222222222222222, \"#7201a8\"], [0.3333333333333333, \"#9c179e\"], [0.4444444444444444, \"#bd3786\"], [0.5555555555555556, \"#d8576b\"], [0.6666666666666666, \"#ed7953\"], [0.7777777777777778, \"#fb9f3a\"], [0.8888888888888888, \"#fdca26\"], [1.0, \"#f0f921\"]], \"type\": \"histogram2d\"}], \"histogram2dcontour\": [{\"colorbar\": {\"outlinewidth\": 0, \"ticks\": \"\"}, \"colorscale\": [[0.0, \"#0d0887\"], [0.1111111111111111, \"#46039f\"], [0.2222222222222222, \"#7201a8\"], [0.3333333333333333, \"#9c179e\"], [0.4444444444444444, \"#bd3786\"], [0.5555555555555556, \"#d8576b\"], [0.6666666666666666, \"#ed7953\"], [0.7777777777777778, \"#fb9f3a\"], [0.8888888888888888, \"#fdca26\"], [1.0, \"#f0f921\"]], \"type\": \"histogram2dcontour\"}], \"mesh3d\": [{\"colorbar\": {\"outlinewidth\": 0, \"ticks\": \"\"}, \"type\": \"mesh3d\"}], \"parcoords\": [{\"line\": {\"colorbar\": {\"outlinewidth\": 0, \"ticks\": \"\"}}, \"type\": \"parcoords\"}], \"pie\": [{\"automargin\": true, \"type\": \"pie\"}], \"scatter\": [{\"marker\": {\"colorbar\": {\"outlinewidth\": 0, \"ticks\": \"\"}}, \"type\": \"scatter\"}], \"scatter3d\": [{\"line\": {\"colorbar\": {\"outlinewidth\": 0, \"ticks\": \"\"}}, \"marker\": {\"colorbar\": {\"outlinewidth\": 0, \"ticks\": \"\"}}, \"type\": \"scatter3d\"}], \"scattercarpet\": [{\"marker\": {\"colorbar\": {\"outlinewidth\": 0, \"ticks\": \"\"}}, \"type\": \"scattercarpet\"}], \"scattergeo\": [{\"marker\": {\"colorbar\": {\"outlinewidth\": 0, \"ticks\": \"\"}}, \"type\": \"scattergeo\"}], \"scattergl\": [{\"marker\": {\"colorbar\": {\"outlinewidth\": 0, \"ticks\": \"\"}}, \"type\": \"scattergl\"}], \"scattermapbox\": [{\"marker\": {\"colorbar\": {\"outlinewidth\": 0, \"ticks\": \"\"}}, \"type\": \"scattermapbox\"}], \"scatterpolar\": [{\"marker\": {\"colorbar\": {\"outlinewidth\": 0, \"ticks\": \"\"}}, \"type\": \"scatterpolar\"}], \"scatterpolargl\": [{\"marker\": {\"colorbar\": {\"outlinewidth\": 0, \"ticks\": \"\"}}, \"type\": \"scatterpolargl\"}], \"scatterternary\": [{\"marker\": {\"colorbar\": {\"outlinewidth\": 0, \"ticks\": \"\"}}, \"type\": \"scatterternary\"}], \"surface\": [{\"colorbar\": {\"outlinewidth\": 0, \"ticks\": \"\"}, \"colorscale\": [[0.0, \"#0d0887\"], [0.1111111111111111, \"#46039f\"], [0.2222222222222222, \"#7201a8\"], [0.3333333333333333, \"#9c179e\"], [0.4444444444444444, \"#bd3786\"], [0.5555555555555556, \"#d8576b\"], [0.6666666666666666, \"#ed7953\"], [0.7777777777777778, \"#fb9f3a\"], [0.8888888888888888, \"#fdca26\"], [1.0, \"#f0f921\"]], \"type\": \"surface\"}], \"table\": [{\"cells\": {\"fill\": {\"color\": \"#EBF0F8\"}, \"line\": {\"color\": \"white\"}}, \"header\": {\"fill\": {\"color\": \"#C8D4E3\"}, \"line\": {\"color\": \"white\"}}, \"type\": \"table\"}]}, \"layout\": {\"annotationdefaults\": {\"arrowcolor\": \"#2a3f5f\", \"arrowhead\": 0, \"arrowwidth\": 1}, \"coloraxis\": {\"colorbar\": {\"outlinewidth\": 0, \"ticks\": \"\"}}, \"colorscale\": {\"diverging\": [[0, \"#8e0152\"], [0.1, \"#c51b7d\"], [0.2, \"#de77ae\"], [0.3, \"#f1b6da\"], [0.4, \"#fde0ef\"], [0.5, \"#f7f7f7\"], [0.6, \"#e6f5d0\"], [0.7, \"#b8e186\"], [0.8, \"#7fbc41\"], [0.9, \"#4d9221\"], [1, \"#276419\"]], \"sequential\": [[0.0, \"#0d0887\"], [0.1111111111111111, \"#46039f\"], [0.2222222222222222, \"#7201a8\"], [0.3333333333333333, \"#9c179e\"], [0.4444444444444444, \"#bd3786\"], [0.5555555555555556, \"#d8576b\"], [0.6666666666666666, \"#ed7953\"], [0.7777777777777778, \"#fb9f3a\"], [0.8888888888888888, \"#fdca26\"], [1.0, \"#f0f921\"]], \"sequentialminus\": [[0.0, \"#0d0887\"], [0.1111111111111111, \"#46039f\"], [0.2222222222222222, \"#7201a8\"], [0.3333333333333333, \"#9c179e\"], [0.4444444444444444, \"#bd3786\"], [0.5555555555555556, \"#d8576b\"], [0.6666666666666666, \"#ed7953\"], [0.7777777777777778, \"#fb9f3a\"], [0.8888888888888888, \"#fdca26\"], [1.0, \"#f0f921\"]]}, \"colorway\": [\"#636efa\", \"#EF553B\", \"#00cc96\", \"#ab63fa\", \"#FFA15A\", \"#19d3f3\", \"#FF6692\", \"#B6E880\", \"#FF97FF\", \"#FECB52\"], \"font\": {\"color\": \"#2a3f5f\"}, \"geo\": {\"bgcolor\": \"white\", \"lakecolor\": \"white\", \"landcolor\": \"#E5ECF6\", \"showlakes\": true, \"showland\": true, \"subunitcolor\": \"white\"}, \"hoverlabel\": {\"align\": \"left\"}, \"hovermode\": \"closest\", \"mapbox\": {\"style\": \"light\"}, \"paper_bgcolor\": \"white\", \"plot_bgcolor\": \"#E5ECF6\", \"polar\": {\"angularaxis\": {\"gridcolor\": \"white\", \"linecolor\": \"white\", \"ticks\": \"\"}, \"bgcolor\": \"#E5ECF6\", \"radialaxis\": {\"gridcolor\": \"white\", \"linecolor\": \"white\", \"ticks\": \"\"}}, \"scene\": {\"xaxis\": {\"backgroundcolor\": \"#E5ECF6\", \"gridcolor\": \"white\", \"gridwidth\": 2, \"linecolor\": \"white\", \"showbackground\": true, \"ticks\": \"\", \"zerolinecolor\": \"white\"}, \"yaxis\": {\"backgroundcolor\": \"#E5ECF6\", \"gridcolor\": \"white\", \"gridwidth\": 2, \"linecolor\": \"white\", \"showbackground\": true, \"ticks\": \"\", \"zerolinecolor\": \"white\"}, \"zaxis\": {\"backgroundcolor\": \"#E5ECF6\", \"gridcolor\": \"white\", \"gridwidth\": 2, \"linecolor\": \"white\", \"showbackground\": true, \"ticks\": \"\", \"zerolinecolor\": \"white\"}}, \"shapedefaults\": {\"line\": {\"color\": \"#2a3f5f\"}}, \"ternary\": {\"aaxis\": {\"gridcolor\": \"white\", \"linecolor\": \"white\", \"ticks\": \"\"}, \"baxis\": {\"gridcolor\": \"white\", \"linecolor\": \"white\", \"ticks\": \"\"}, \"bgcolor\": \"#E5ECF6\", \"caxis\": {\"gridcolor\": \"white\", \"linecolor\": \"white\", \"ticks\": \"\"}}, \"title\": {\"x\": 0.05}, \"xaxis\": {\"automargin\": true, \"gridcolor\": \"white\", \"linecolor\": \"white\", \"ticks\": \"\", \"title\": {\"standoff\": 15}, \"zerolinecolor\": \"white\", \"zerolinewidth\": 2}, \"yaxis\": {\"automargin\": true, \"gridcolor\": \"white\", \"linecolor\": \"white\", \"ticks\": \"\", \"title\": {\"standoff\": 15}, \"zerolinecolor\": \"white\", \"zerolinewidth\": 2}}}, \"title\": {\"text\": \"Top 10 recovered countries\"}, \"xaxis\": {\"autorange\": \"reversed\"}},\n",
       "                        {\"responsive\": true}\n",
       "                    ).then(function(){\n",
       "                            \n",
       "var gd = document.getElementById('be5c2f39-e1ca-4128-9585-a30d5b4bee1a');\n",
       "var x = new MutationObserver(function (mutations, observer) {{\n",
       "        var display = window.getComputedStyle(gd).display;\n",
       "        if (!display || display === 'none') {{\n",
       "            console.log([gd, 'removed!']);\n",
       "            Plotly.purge(gd);\n",
       "            observer.disconnect();\n",
       "        }}\n",
       "}});\n",
       "\n",
       "// Listen for the removal of the full notebook cells\n",
       "var notebookContainer = gd.closest('#notebook-container');\n",
       "if (notebookContainer) {{\n",
       "    x.observe(notebookContainer, {childList: true});\n",
       "}}\n",
       "\n",
       "// Listen for the clearing of the current output cell\n",
       "var outputEl = gd.closest('.output');\n",
       "if (outputEl) {{\n",
       "    x.observe(outputEl, {childList: true});\n",
       "}}\n",
       "\n",
       "                        })\n",
       "                };\n",
       "                });\n",
       "            </script>\n",
       "        </div>"
      ]
     },
     "metadata": {},
     "output_type": "display_data"
    },
    {
     "data": {
      "text/plain": [
       "'/Users/andang/Documents/workspace/private/python/COVID-19-Dashboard/html-graphs/Top 10 recovered countries.html'"
      ]
     },
     "execution_count": 10,
     "metadata": {},
     "output_type": "execute_result"
    }
   ],
   "source": [
    "fig = go.Figure()\n",
    "\n",
    "for country in countries:\n",
    "    recov_country = transformed_covid_recov[transformed_covid_recov['Country/Region'] == country]\n",
    "    \n",
    "    fig.add_trace(go.Scatter(\n",
    "        x=recov_country.Date,\n",
    "        y=recov_country.Value,\n",
    "        name=country,\n",
    "        opacity=0.8,))\n",
    "\n",
    "# Layout update \n",
    "fig.update_layout(title_text=\"Top 10 recovered countries\")\n",
    "\n",
    "# Reversed xaxis\n",
    "fig['layout']['xaxis']['autorange'] = \"reversed\"\n",
    "\n",
    "fig.show()\n",
    "\n",
    "plot(fig, filename=PLOT_PATH + 'Top 10 recovered countries.html', auto_open=False)"
   ]
  },
  {
   "cell_type": "markdown",
   "metadata": {},
   "source": [
    "### Germany"
   ]
  },
  {
   "cell_type": "code",
   "execution_count": 11,
   "metadata": {
    "ExecuteTime": {
     "end_time": "2020-03-17T16:34:50.672734Z",
     "start_time": "2020-03-17T16:34:50.254967Z"
    }
   },
   "outputs": [
    {
     "data": {
      "application/vnd.plotly.v1+json": {
       "config": {
        "plotlyServerURL": "https://plot.ly"
       },
       "data": [
        {
         "name": "Germany",
         "opacity": 0.8,
         "type": "scatter",
         "x": [
          "3/16/20",
          "3/14/20",
          "3/13/20",
          "3/15/20",
          "3/11/20",
          "3/12/20",
          "3/10/20",
          "3/8/20",
          "3/9/20",
          "3/7/20",
          "3/6/20",
          "3/1/20",
          "2/29/20",
          "2/27/20",
          "3/4/20",
          "3/2/20",
          "2/28/20",
          "3/5/20",
          "3/3/20",
          "2/26/20",
          "2/22/20",
          "2/25/20",
          "2/24/20",
          "2/23/20",
          "2/21/20",
          "2/19/20",
          "2/18/20",
          "2/20/20",
          "2/14/20",
          "2/13/20",
          "2/16/20",
          "2/15/20",
          "2/17/20",
          "1/31/20",
          "1/29/20",
          "1/30/20",
          "2/3/20",
          "2/4/20",
          "2/1/20",
          "2/2/20",
          "1/24/20",
          "1/25/20",
          "1/22/20",
          "1/23/20",
          "1/27/20",
          "1/28/20",
          "1/26/20",
          "2/12/20",
          "2/6/20",
          "2/7/20",
          "2/5/20",
          "2/10/20",
          "2/11/20",
          "2/8/20",
          "2/9/20"
         ],
         "y": [
          67,
          46,
          46,
          46,
          25,
          25,
          18,
          18,
          18,
          18,
          17,
          16,
          16,
          16,
          16,
          16,
          16,
          16,
          16,
          15,
          14,
          14,
          14,
          14,
          14,
          12,
          12,
          12,
          1,
          1,
          1,
          1,
          1,
          0,
          0,
          0,
          0,
          0,
          0,
          0,
          0,
          0,
          0,
          0,
          0,
          0,
          0,
          0,
          0,
          0,
          0,
          0,
          0,
          0,
          0
         ]
        }
       ],
       "layout": {
        "template": {
         "data": {
          "bar": [
           {
            "error_x": {
             "color": "#2a3f5f"
            },
            "error_y": {
             "color": "#2a3f5f"
            },
            "marker": {
             "line": {
              "color": "#E5ECF6",
              "width": 0.5
             }
            },
            "type": "bar"
           }
          ],
          "barpolar": [
           {
            "marker": {
             "line": {
              "color": "#E5ECF6",
              "width": 0.5
             }
            },
            "type": "barpolar"
           }
          ],
          "carpet": [
           {
            "aaxis": {
             "endlinecolor": "#2a3f5f",
             "gridcolor": "white",
             "linecolor": "white",
             "minorgridcolor": "white",
             "startlinecolor": "#2a3f5f"
            },
            "baxis": {
             "endlinecolor": "#2a3f5f",
             "gridcolor": "white",
             "linecolor": "white",
             "minorgridcolor": "white",
             "startlinecolor": "#2a3f5f"
            },
            "type": "carpet"
           }
          ],
          "choropleth": [
           {
            "colorbar": {
             "outlinewidth": 0,
             "ticks": ""
            },
            "type": "choropleth"
           }
          ],
          "contour": [
           {
            "colorbar": {
             "outlinewidth": 0,
             "ticks": ""
            },
            "colorscale": [
             [
              0,
              "#0d0887"
             ],
             [
              0.1111111111111111,
              "#46039f"
             ],
             [
              0.2222222222222222,
              "#7201a8"
             ],
             [
              0.3333333333333333,
              "#9c179e"
             ],
             [
              0.4444444444444444,
              "#bd3786"
             ],
             [
              0.5555555555555556,
              "#d8576b"
             ],
             [
              0.6666666666666666,
              "#ed7953"
             ],
             [
              0.7777777777777778,
              "#fb9f3a"
             ],
             [
              0.8888888888888888,
              "#fdca26"
             ],
             [
              1,
              "#f0f921"
             ]
            ],
            "type": "contour"
           }
          ],
          "contourcarpet": [
           {
            "colorbar": {
             "outlinewidth": 0,
             "ticks": ""
            },
            "type": "contourcarpet"
           }
          ],
          "heatmap": [
           {
            "colorbar": {
             "outlinewidth": 0,
             "ticks": ""
            },
            "colorscale": [
             [
              0,
              "#0d0887"
             ],
             [
              0.1111111111111111,
              "#46039f"
             ],
             [
              0.2222222222222222,
              "#7201a8"
             ],
             [
              0.3333333333333333,
              "#9c179e"
             ],
             [
              0.4444444444444444,
              "#bd3786"
             ],
             [
              0.5555555555555556,
              "#d8576b"
             ],
             [
              0.6666666666666666,
              "#ed7953"
             ],
             [
              0.7777777777777778,
              "#fb9f3a"
             ],
             [
              0.8888888888888888,
              "#fdca26"
             ],
             [
              1,
              "#f0f921"
             ]
            ],
            "type": "heatmap"
           }
          ],
          "heatmapgl": [
           {
            "colorbar": {
             "outlinewidth": 0,
             "ticks": ""
            },
            "colorscale": [
             [
              0,
              "#0d0887"
             ],
             [
              0.1111111111111111,
              "#46039f"
             ],
             [
              0.2222222222222222,
              "#7201a8"
             ],
             [
              0.3333333333333333,
              "#9c179e"
             ],
             [
              0.4444444444444444,
              "#bd3786"
             ],
             [
              0.5555555555555556,
              "#d8576b"
             ],
             [
              0.6666666666666666,
              "#ed7953"
             ],
             [
              0.7777777777777778,
              "#fb9f3a"
             ],
             [
              0.8888888888888888,
              "#fdca26"
             ],
             [
              1,
              "#f0f921"
             ]
            ],
            "type": "heatmapgl"
           }
          ],
          "histogram": [
           {
            "marker": {
             "colorbar": {
              "outlinewidth": 0,
              "ticks": ""
             }
            },
            "type": "histogram"
           }
          ],
          "histogram2d": [
           {
            "colorbar": {
             "outlinewidth": 0,
             "ticks": ""
            },
            "colorscale": [
             [
              0,
              "#0d0887"
             ],
             [
              0.1111111111111111,
              "#46039f"
             ],
             [
              0.2222222222222222,
              "#7201a8"
             ],
             [
              0.3333333333333333,
              "#9c179e"
             ],
             [
              0.4444444444444444,
              "#bd3786"
             ],
             [
              0.5555555555555556,
              "#d8576b"
             ],
             [
              0.6666666666666666,
              "#ed7953"
             ],
             [
              0.7777777777777778,
              "#fb9f3a"
             ],
             [
              0.8888888888888888,
              "#fdca26"
             ],
             [
              1,
              "#f0f921"
             ]
            ],
            "type": "histogram2d"
           }
          ],
          "histogram2dcontour": [
           {
            "colorbar": {
             "outlinewidth": 0,
             "ticks": ""
            },
            "colorscale": [
             [
              0,
              "#0d0887"
             ],
             [
              0.1111111111111111,
              "#46039f"
             ],
             [
              0.2222222222222222,
              "#7201a8"
             ],
             [
              0.3333333333333333,
              "#9c179e"
             ],
             [
              0.4444444444444444,
              "#bd3786"
             ],
             [
              0.5555555555555556,
              "#d8576b"
             ],
             [
              0.6666666666666666,
              "#ed7953"
             ],
             [
              0.7777777777777778,
              "#fb9f3a"
             ],
             [
              0.8888888888888888,
              "#fdca26"
             ],
             [
              1,
              "#f0f921"
             ]
            ],
            "type": "histogram2dcontour"
           }
          ],
          "mesh3d": [
           {
            "colorbar": {
             "outlinewidth": 0,
             "ticks": ""
            },
            "type": "mesh3d"
           }
          ],
          "parcoords": [
           {
            "line": {
             "colorbar": {
              "outlinewidth": 0,
              "ticks": ""
             }
            },
            "type": "parcoords"
           }
          ],
          "pie": [
           {
            "automargin": true,
            "type": "pie"
           }
          ],
          "scatter": [
           {
            "marker": {
             "colorbar": {
              "outlinewidth": 0,
              "ticks": ""
             }
            },
            "type": "scatter"
           }
          ],
          "scatter3d": [
           {
            "line": {
             "colorbar": {
              "outlinewidth": 0,
              "ticks": ""
             }
            },
            "marker": {
             "colorbar": {
              "outlinewidth": 0,
              "ticks": ""
             }
            },
            "type": "scatter3d"
           }
          ],
          "scattercarpet": [
           {
            "marker": {
             "colorbar": {
              "outlinewidth": 0,
              "ticks": ""
             }
            },
            "type": "scattercarpet"
           }
          ],
          "scattergeo": [
           {
            "marker": {
             "colorbar": {
              "outlinewidth": 0,
              "ticks": ""
             }
            },
            "type": "scattergeo"
           }
          ],
          "scattergl": [
           {
            "marker": {
             "colorbar": {
              "outlinewidth": 0,
              "ticks": ""
             }
            },
            "type": "scattergl"
           }
          ],
          "scattermapbox": [
           {
            "marker": {
             "colorbar": {
              "outlinewidth": 0,
              "ticks": ""
             }
            },
            "type": "scattermapbox"
           }
          ],
          "scatterpolar": [
           {
            "marker": {
             "colorbar": {
              "outlinewidth": 0,
              "ticks": ""
             }
            },
            "type": "scatterpolar"
           }
          ],
          "scatterpolargl": [
           {
            "marker": {
             "colorbar": {
              "outlinewidth": 0,
              "ticks": ""
             }
            },
            "type": "scatterpolargl"
           }
          ],
          "scatterternary": [
           {
            "marker": {
             "colorbar": {
              "outlinewidth": 0,
              "ticks": ""
             }
            },
            "type": "scatterternary"
           }
          ],
          "surface": [
           {
            "colorbar": {
             "outlinewidth": 0,
             "ticks": ""
            },
            "colorscale": [
             [
              0,
              "#0d0887"
             ],
             [
              0.1111111111111111,
              "#46039f"
             ],
             [
              0.2222222222222222,
              "#7201a8"
             ],
             [
              0.3333333333333333,
              "#9c179e"
             ],
             [
              0.4444444444444444,
              "#bd3786"
             ],
             [
              0.5555555555555556,
              "#d8576b"
             ],
             [
              0.6666666666666666,
              "#ed7953"
             ],
             [
              0.7777777777777778,
              "#fb9f3a"
             ],
             [
              0.8888888888888888,
              "#fdca26"
             ],
             [
              1,
              "#f0f921"
             ]
            ],
            "type": "surface"
           }
          ],
          "table": [
           {
            "cells": {
             "fill": {
              "color": "#EBF0F8"
             },
             "line": {
              "color": "white"
             }
            },
            "header": {
             "fill": {
              "color": "#C8D4E3"
             },
             "line": {
              "color": "white"
             }
            },
            "type": "table"
           }
          ]
         },
         "layout": {
          "annotationdefaults": {
           "arrowcolor": "#2a3f5f",
           "arrowhead": 0,
           "arrowwidth": 1
          },
          "coloraxis": {
           "colorbar": {
            "outlinewidth": 0,
            "ticks": ""
           }
          },
          "colorscale": {
           "diverging": [
            [
             0,
             "#8e0152"
            ],
            [
             0.1,
             "#c51b7d"
            ],
            [
             0.2,
             "#de77ae"
            ],
            [
             0.3,
             "#f1b6da"
            ],
            [
             0.4,
             "#fde0ef"
            ],
            [
             0.5,
             "#f7f7f7"
            ],
            [
             0.6,
             "#e6f5d0"
            ],
            [
             0.7,
             "#b8e186"
            ],
            [
             0.8,
             "#7fbc41"
            ],
            [
             0.9,
             "#4d9221"
            ],
            [
             1,
             "#276419"
            ]
           ],
           "sequential": [
            [
             0,
             "#0d0887"
            ],
            [
             0.1111111111111111,
             "#46039f"
            ],
            [
             0.2222222222222222,
             "#7201a8"
            ],
            [
             0.3333333333333333,
             "#9c179e"
            ],
            [
             0.4444444444444444,
             "#bd3786"
            ],
            [
             0.5555555555555556,
             "#d8576b"
            ],
            [
             0.6666666666666666,
             "#ed7953"
            ],
            [
             0.7777777777777778,
             "#fb9f3a"
            ],
            [
             0.8888888888888888,
             "#fdca26"
            ],
            [
             1,
             "#f0f921"
            ]
           ],
           "sequentialminus": [
            [
             0,
             "#0d0887"
            ],
            [
             0.1111111111111111,
             "#46039f"
            ],
            [
             0.2222222222222222,
             "#7201a8"
            ],
            [
             0.3333333333333333,
             "#9c179e"
            ],
            [
             0.4444444444444444,
             "#bd3786"
            ],
            [
             0.5555555555555556,
             "#d8576b"
            ],
            [
             0.6666666666666666,
             "#ed7953"
            ],
            [
             0.7777777777777778,
             "#fb9f3a"
            ],
            [
             0.8888888888888888,
             "#fdca26"
            ],
            [
             1,
             "#f0f921"
            ]
           ]
          },
          "colorway": [
           "#636efa",
           "#EF553B",
           "#00cc96",
           "#ab63fa",
           "#FFA15A",
           "#19d3f3",
           "#FF6692",
           "#B6E880",
           "#FF97FF",
           "#FECB52"
          ],
          "font": {
           "color": "#2a3f5f"
          },
          "geo": {
           "bgcolor": "white",
           "lakecolor": "white",
           "landcolor": "#E5ECF6",
           "showlakes": true,
           "showland": true,
           "subunitcolor": "white"
          },
          "hoverlabel": {
           "align": "left"
          },
          "hovermode": "closest",
          "mapbox": {
           "style": "light"
          },
          "paper_bgcolor": "white",
          "plot_bgcolor": "#E5ECF6",
          "polar": {
           "angularaxis": {
            "gridcolor": "white",
            "linecolor": "white",
            "ticks": ""
           },
           "bgcolor": "#E5ECF6",
           "radialaxis": {
            "gridcolor": "white",
            "linecolor": "white",
            "ticks": ""
           }
          },
          "scene": {
           "xaxis": {
            "backgroundcolor": "#E5ECF6",
            "gridcolor": "white",
            "gridwidth": 2,
            "linecolor": "white",
            "showbackground": true,
            "ticks": "",
            "zerolinecolor": "white"
           },
           "yaxis": {
            "backgroundcolor": "#E5ECF6",
            "gridcolor": "white",
            "gridwidth": 2,
            "linecolor": "white",
            "showbackground": true,
            "ticks": "",
            "zerolinecolor": "white"
           },
           "zaxis": {
            "backgroundcolor": "#E5ECF6",
            "gridcolor": "white",
            "gridwidth": 2,
            "linecolor": "white",
            "showbackground": true,
            "ticks": "",
            "zerolinecolor": "white"
           }
          },
          "shapedefaults": {
           "line": {
            "color": "#2a3f5f"
           }
          },
          "ternary": {
           "aaxis": {
            "gridcolor": "white",
            "linecolor": "white",
            "ticks": ""
           },
           "baxis": {
            "gridcolor": "white",
            "linecolor": "white",
            "ticks": ""
           },
           "bgcolor": "#E5ECF6",
           "caxis": {
            "gridcolor": "white",
            "linecolor": "white",
            "ticks": ""
           }
          },
          "title": {
           "x": 0.05
          },
          "xaxis": {
           "automargin": true,
           "gridcolor": "white",
           "linecolor": "white",
           "ticks": "",
           "title": {
            "standoff": 15
           },
           "zerolinecolor": "white",
           "zerolinewidth": 2
          },
          "yaxis": {
           "automargin": true,
           "gridcolor": "white",
           "linecolor": "white",
           "ticks": "",
           "title": {
            "standoff": 15
           },
           "zerolinecolor": "white",
           "zerolinewidth": 2
          }
         }
        },
        "title": {
         "text": "Recovered in Germany"
        },
        "xaxis": {
         "autorange": "reversed"
        }
       }
      },
      "text/html": [
       "<div>\n",
       "        \n",
       "        \n",
       "            <div id=\"443afcc5-2e45-4a68-8c80-fc085e43e75f\" class=\"plotly-graph-div\" style=\"height:525px; width:100%;\"></div>\n",
       "            <script type=\"text/javascript\">\n",
       "                require([\"plotly\"], function(Plotly) {\n",
       "                    window.PLOTLYENV=window.PLOTLYENV || {};\n",
       "                    \n",
       "                if (document.getElementById(\"443afcc5-2e45-4a68-8c80-fc085e43e75f\")) {\n",
       "                    Plotly.newPlot(\n",
       "                        '443afcc5-2e45-4a68-8c80-fc085e43e75f',\n",
       "                        [{\"name\": \"Germany\", \"opacity\": 0.8, \"type\": \"scatter\", \"x\": [\"3/16/20\", \"3/14/20\", \"3/13/20\", \"3/15/20\", \"3/11/20\", \"3/12/20\", \"3/10/20\", \"3/8/20\", \"3/9/20\", \"3/7/20\", \"3/6/20\", \"3/1/20\", \"2/29/20\", \"2/27/20\", \"3/4/20\", \"3/2/20\", \"2/28/20\", \"3/5/20\", \"3/3/20\", \"2/26/20\", \"2/22/20\", \"2/25/20\", \"2/24/20\", \"2/23/20\", \"2/21/20\", \"2/19/20\", \"2/18/20\", \"2/20/20\", \"2/14/20\", \"2/13/20\", \"2/16/20\", \"2/15/20\", \"2/17/20\", \"1/31/20\", \"1/29/20\", \"1/30/20\", \"2/3/20\", \"2/4/20\", \"2/1/20\", \"2/2/20\", \"1/24/20\", \"1/25/20\", \"1/22/20\", \"1/23/20\", \"1/27/20\", \"1/28/20\", \"1/26/20\", \"2/12/20\", \"2/6/20\", \"2/7/20\", \"2/5/20\", \"2/10/20\", \"2/11/20\", \"2/8/20\", \"2/9/20\"], \"y\": [67, 46, 46, 46, 25, 25, 18, 18, 18, 18, 17, 16, 16, 16, 16, 16, 16, 16, 16, 15, 14, 14, 14, 14, 14, 12, 12, 12, 1, 1, 1, 1, 1, 0, 0, 0, 0, 0, 0, 0, 0, 0, 0, 0, 0, 0, 0, 0, 0, 0, 0, 0, 0, 0, 0]}],\n",
       "                        {\"template\": {\"data\": {\"bar\": [{\"error_x\": {\"color\": \"#2a3f5f\"}, \"error_y\": {\"color\": \"#2a3f5f\"}, \"marker\": {\"line\": {\"color\": \"#E5ECF6\", \"width\": 0.5}}, \"type\": \"bar\"}], \"barpolar\": [{\"marker\": {\"line\": {\"color\": \"#E5ECF6\", \"width\": 0.5}}, \"type\": \"barpolar\"}], \"carpet\": [{\"aaxis\": {\"endlinecolor\": \"#2a3f5f\", \"gridcolor\": \"white\", \"linecolor\": \"white\", \"minorgridcolor\": \"white\", \"startlinecolor\": \"#2a3f5f\"}, \"baxis\": {\"endlinecolor\": \"#2a3f5f\", \"gridcolor\": \"white\", \"linecolor\": \"white\", \"minorgridcolor\": \"white\", \"startlinecolor\": \"#2a3f5f\"}, \"type\": \"carpet\"}], \"choropleth\": [{\"colorbar\": {\"outlinewidth\": 0, \"ticks\": \"\"}, \"type\": \"choropleth\"}], \"contour\": [{\"colorbar\": {\"outlinewidth\": 0, \"ticks\": \"\"}, \"colorscale\": [[0.0, \"#0d0887\"], [0.1111111111111111, \"#46039f\"], [0.2222222222222222, \"#7201a8\"], [0.3333333333333333, \"#9c179e\"], [0.4444444444444444, \"#bd3786\"], [0.5555555555555556, \"#d8576b\"], [0.6666666666666666, \"#ed7953\"], [0.7777777777777778, \"#fb9f3a\"], [0.8888888888888888, \"#fdca26\"], [1.0, \"#f0f921\"]], \"type\": \"contour\"}], \"contourcarpet\": [{\"colorbar\": {\"outlinewidth\": 0, \"ticks\": \"\"}, \"type\": \"contourcarpet\"}], \"heatmap\": [{\"colorbar\": {\"outlinewidth\": 0, \"ticks\": \"\"}, \"colorscale\": [[0.0, \"#0d0887\"], [0.1111111111111111, \"#46039f\"], [0.2222222222222222, \"#7201a8\"], [0.3333333333333333, \"#9c179e\"], [0.4444444444444444, \"#bd3786\"], [0.5555555555555556, \"#d8576b\"], [0.6666666666666666, \"#ed7953\"], [0.7777777777777778, \"#fb9f3a\"], [0.8888888888888888, \"#fdca26\"], [1.0, \"#f0f921\"]], \"type\": \"heatmap\"}], \"heatmapgl\": [{\"colorbar\": {\"outlinewidth\": 0, \"ticks\": \"\"}, \"colorscale\": [[0.0, \"#0d0887\"], [0.1111111111111111, \"#46039f\"], [0.2222222222222222, \"#7201a8\"], [0.3333333333333333, \"#9c179e\"], [0.4444444444444444, \"#bd3786\"], [0.5555555555555556, \"#d8576b\"], [0.6666666666666666, \"#ed7953\"], [0.7777777777777778, \"#fb9f3a\"], [0.8888888888888888, \"#fdca26\"], [1.0, \"#f0f921\"]], \"type\": \"heatmapgl\"}], \"histogram\": [{\"marker\": {\"colorbar\": {\"outlinewidth\": 0, \"ticks\": \"\"}}, \"type\": \"histogram\"}], \"histogram2d\": [{\"colorbar\": {\"outlinewidth\": 0, \"ticks\": \"\"}, \"colorscale\": [[0.0, \"#0d0887\"], [0.1111111111111111, \"#46039f\"], [0.2222222222222222, \"#7201a8\"], [0.3333333333333333, \"#9c179e\"], [0.4444444444444444, \"#bd3786\"], [0.5555555555555556, \"#d8576b\"], [0.6666666666666666, \"#ed7953\"], [0.7777777777777778, \"#fb9f3a\"], [0.8888888888888888, \"#fdca26\"], [1.0, \"#f0f921\"]], \"type\": \"histogram2d\"}], \"histogram2dcontour\": [{\"colorbar\": {\"outlinewidth\": 0, \"ticks\": \"\"}, \"colorscale\": [[0.0, \"#0d0887\"], [0.1111111111111111, \"#46039f\"], [0.2222222222222222, \"#7201a8\"], [0.3333333333333333, \"#9c179e\"], [0.4444444444444444, \"#bd3786\"], [0.5555555555555556, \"#d8576b\"], [0.6666666666666666, \"#ed7953\"], [0.7777777777777778, \"#fb9f3a\"], [0.8888888888888888, \"#fdca26\"], [1.0, \"#f0f921\"]], \"type\": \"histogram2dcontour\"}], \"mesh3d\": [{\"colorbar\": {\"outlinewidth\": 0, \"ticks\": \"\"}, \"type\": \"mesh3d\"}], \"parcoords\": [{\"line\": {\"colorbar\": {\"outlinewidth\": 0, \"ticks\": \"\"}}, \"type\": \"parcoords\"}], \"pie\": [{\"automargin\": true, \"type\": \"pie\"}], \"scatter\": [{\"marker\": {\"colorbar\": {\"outlinewidth\": 0, \"ticks\": \"\"}}, \"type\": \"scatter\"}], \"scatter3d\": [{\"line\": {\"colorbar\": {\"outlinewidth\": 0, \"ticks\": \"\"}}, \"marker\": {\"colorbar\": {\"outlinewidth\": 0, \"ticks\": \"\"}}, \"type\": \"scatter3d\"}], \"scattercarpet\": [{\"marker\": {\"colorbar\": {\"outlinewidth\": 0, \"ticks\": \"\"}}, \"type\": \"scattercarpet\"}], \"scattergeo\": [{\"marker\": {\"colorbar\": {\"outlinewidth\": 0, \"ticks\": \"\"}}, \"type\": \"scattergeo\"}], \"scattergl\": [{\"marker\": {\"colorbar\": {\"outlinewidth\": 0, \"ticks\": \"\"}}, \"type\": \"scattergl\"}], \"scattermapbox\": [{\"marker\": {\"colorbar\": {\"outlinewidth\": 0, \"ticks\": \"\"}}, \"type\": \"scattermapbox\"}], \"scatterpolar\": [{\"marker\": {\"colorbar\": {\"outlinewidth\": 0, \"ticks\": \"\"}}, \"type\": \"scatterpolar\"}], \"scatterpolargl\": [{\"marker\": {\"colorbar\": {\"outlinewidth\": 0, \"ticks\": \"\"}}, \"type\": \"scatterpolargl\"}], \"scatterternary\": [{\"marker\": {\"colorbar\": {\"outlinewidth\": 0, \"ticks\": \"\"}}, \"type\": \"scatterternary\"}], \"surface\": [{\"colorbar\": {\"outlinewidth\": 0, \"ticks\": \"\"}, \"colorscale\": [[0.0, \"#0d0887\"], [0.1111111111111111, \"#46039f\"], [0.2222222222222222, \"#7201a8\"], [0.3333333333333333, \"#9c179e\"], [0.4444444444444444, \"#bd3786\"], [0.5555555555555556, \"#d8576b\"], [0.6666666666666666, \"#ed7953\"], [0.7777777777777778, \"#fb9f3a\"], [0.8888888888888888, \"#fdca26\"], [1.0, \"#f0f921\"]], \"type\": \"surface\"}], \"table\": [{\"cells\": {\"fill\": {\"color\": \"#EBF0F8\"}, \"line\": {\"color\": \"white\"}}, \"header\": {\"fill\": {\"color\": \"#C8D4E3\"}, \"line\": {\"color\": \"white\"}}, \"type\": \"table\"}]}, \"layout\": {\"annotationdefaults\": {\"arrowcolor\": \"#2a3f5f\", \"arrowhead\": 0, \"arrowwidth\": 1}, \"coloraxis\": {\"colorbar\": {\"outlinewidth\": 0, \"ticks\": \"\"}}, \"colorscale\": {\"diverging\": [[0, \"#8e0152\"], [0.1, \"#c51b7d\"], [0.2, \"#de77ae\"], [0.3, \"#f1b6da\"], [0.4, \"#fde0ef\"], [0.5, \"#f7f7f7\"], [0.6, \"#e6f5d0\"], [0.7, \"#b8e186\"], [0.8, \"#7fbc41\"], [0.9, \"#4d9221\"], [1, \"#276419\"]], \"sequential\": [[0.0, \"#0d0887\"], [0.1111111111111111, \"#46039f\"], [0.2222222222222222, \"#7201a8\"], [0.3333333333333333, \"#9c179e\"], [0.4444444444444444, \"#bd3786\"], [0.5555555555555556, \"#d8576b\"], [0.6666666666666666, \"#ed7953\"], [0.7777777777777778, \"#fb9f3a\"], [0.8888888888888888, \"#fdca26\"], [1.0, \"#f0f921\"]], \"sequentialminus\": [[0.0, \"#0d0887\"], [0.1111111111111111, \"#46039f\"], [0.2222222222222222, \"#7201a8\"], [0.3333333333333333, \"#9c179e\"], [0.4444444444444444, \"#bd3786\"], [0.5555555555555556, \"#d8576b\"], [0.6666666666666666, \"#ed7953\"], [0.7777777777777778, \"#fb9f3a\"], [0.8888888888888888, \"#fdca26\"], [1.0, \"#f0f921\"]]}, \"colorway\": [\"#636efa\", \"#EF553B\", \"#00cc96\", \"#ab63fa\", \"#FFA15A\", \"#19d3f3\", \"#FF6692\", \"#B6E880\", \"#FF97FF\", \"#FECB52\"], \"font\": {\"color\": \"#2a3f5f\"}, \"geo\": {\"bgcolor\": \"white\", \"lakecolor\": \"white\", \"landcolor\": \"#E5ECF6\", \"showlakes\": true, \"showland\": true, \"subunitcolor\": \"white\"}, \"hoverlabel\": {\"align\": \"left\"}, \"hovermode\": \"closest\", \"mapbox\": {\"style\": \"light\"}, \"paper_bgcolor\": \"white\", \"plot_bgcolor\": \"#E5ECF6\", \"polar\": {\"angularaxis\": {\"gridcolor\": \"white\", \"linecolor\": \"white\", \"ticks\": \"\"}, \"bgcolor\": \"#E5ECF6\", \"radialaxis\": {\"gridcolor\": \"white\", \"linecolor\": \"white\", \"ticks\": \"\"}}, \"scene\": {\"xaxis\": {\"backgroundcolor\": \"#E5ECF6\", \"gridcolor\": \"white\", \"gridwidth\": 2, \"linecolor\": \"white\", \"showbackground\": true, \"ticks\": \"\", \"zerolinecolor\": \"white\"}, \"yaxis\": {\"backgroundcolor\": \"#E5ECF6\", \"gridcolor\": \"white\", \"gridwidth\": 2, \"linecolor\": \"white\", \"showbackground\": true, \"ticks\": \"\", \"zerolinecolor\": \"white\"}, \"zaxis\": {\"backgroundcolor\": \"#E5ECF6\", \"gridcolor\": \"white\", \"gridwidth\": 2, \"linecolor\": \"white\", \"showbackground\": true, \"ticks\": \"\", \"zerolinecolor\": \"white\"}}, \"shapedefaults\": {\"line\": {\"color\": \"#2a3f5f\"}}, \"ternary\": {\"aaxis\": {\"gridcolor\": \"white\", \"linecolor\": \"white\", \"ticks\": \"\"}, \"baxis\": {\"gridcolor\": \"white\", \"linecolor\": \"white\", \"ticks\": \"\"}, \"bgcolor\": \"#E5ECF6\", \"caxis\": {\"gridcolor\": \"white\", \"linecolor\": \"white\", \"ticks\": \"\"}}, \"title\": {\"x\": 0.05}, \"xaxis\": {\"automargin\": true, \"gridcolor\": \"white\", \"linecolor\": \"white\", \"ticks\": \"\", \"title\": {\"standoff\": 15}, \"zerolinecolor\": \"white\", \"zerolinewidth\": 2}, \"yaxis\": {\"automargin\": true, \"gridcolor\": \"white\", \"linecolor\": \"white\", \"ticks\": \"\", \"title\": {\"standoff\": 15}, \"zerolinecolor\": \"white\", \"zerolinewidth\": 2}}}, \"title\": {\"text\": \"Recovered in Germany\"}, \"xaxis\": {\"autorange\": \"reversed\"}},\n",
       "                        {\"responsive\": true}\n",
       "                    ).then(function(){\n",
       "                            \n",
       "var gd = document.getElementById('443afcc5-2e45-4a68-8c80-fc085e43e75f');\n",
       "var x = new MutationObserver(function (mutations, observer) {{\n",
       "        var display = window.getComputedStyle(gd).display;\n",
       "        if (!display || display === 'none') {{\n",
       "            console.log([gd, 'removed!']);\n",
       "            Plotly.purge(gd);\n",
       "            observer.disconnect();\n",
       "        }}\n",
       "}});\n",
       "\n",
       "// Listen for the removal of the full notebook cells\n",
       "var notebookContainer = gd.closest('#notebook-container');\n",
       "if (notebookContainer) {{\n",
       "    x.observe(notebookContainer, {childList: true});\n",
       "}}\n",
       "\n",
       "// Listen for the clearing of the current output cell\n",
       "var outputEl = gd.closest('.output');\n",
       "if (outputEl) {{\n",
       "    x.observe(outputEl, {childList: true});\n",
       "}}\n",
       "\n",
       "                        })\n",
       "                };\n",
       "                });\n",
       "            </script>\n",
       "        </div>"
      ]
     },
     "metadata": {},
     "output_type": "display_data"
    },
    {
     "data": {
      "text/plain": [
       "'/Users/andang/Documents/workspace/private/python/COVID-19-Dashboard/html-graphs/Recovered in Germany.html'"
      ]
     },
     "execution_count": 11,
     "metadata": {},
     "output_type": "execute_result"
    }
   ],
   "source": [
    "fig = go.Figure()\n",
    "countries = ['Germany']\n",
    "for country in countries:\n",
    "    recov_country = transformed_covid_recov[transformed_covid_recov['Country/Region'] == country]\n",
    "    \n",
    "    fig.add_trace(go.Scatter(\n",
    "        x=recov_country.Date,\n",
    "        y=recov_country.Value,\n",
    "        name=country,\n",
    "        opacity=0.8,))\n",
    "\n",
    "# Layout update \n",
    "fig.update_layout(title_text=\"Recovered in Germany\")\n",
    "\n",
    "# Reversed xaxis\n",
    "fig['layout']['xaxis']['autorange'] = \"reversed\"\n",
    "\n",
    "fig.show()\n",
    "plot(fig, filename=PLOT_PATH + 'Recovered in Germany.html', auto_open=False)"
   ]
  },
  {
   "cell_type": "markdown",
   "metadata": {
    "ExecuteTime": {
     "end_time": "2020-03-17T15:09:45.350959Z",
     "start_time": "2020-03-17T15:09:43.809864Z"
    }
   },
   "source": [
    "## Confirmed"
   ]
  },
  {
   "cell_type": "code",
   "execution_count": 12,
   "metadata": {
    "ExecuteTime": {
     "end_time": "2020-03-17T16:34:52.317749Z",
     "start_time": "2020-03-17T16:34:51.788500Z"
    }
   },
   "outputs": [
    {
     "data": {
      "application/vnd.plotly.v1+json": {
       "config": {
        "plotlyServerURL": "https://plot.ly"
       },
       "data": [
        {
         "name": "Germany",
         "opacity": 0.8,
         "type": "scatter",
         "x": [
          "3/16/20",
          "3/15/20",
          "3/14/20",
          "3/13/20",
          "3/12/20",
          "3/11/20",
          "3/10/20",
          "3/9/20",
          "3/8/20",
          "3/7/20",
          "3/6/20",
          "3/5/20",
          "3/4/20",
          "3/3/20",
          "3/2/20",
          "3/1/20",
          "2/29/20",
          "2/28/20",
          "2/27/20",
          "2/26/20",
          "2/25/20",
          "2/15/20",
          "2/19/20",
          "2/20/20",
          "2/24/20",
          "2/16/20",
          "2/18/20",
          "2/21/20",
          "2/17/20",
          "2/23/20",
          "2/12/20",
          "2/11/20",
          "2/13/20",
          "2/14/20",
          "2/22/20",
          "2/9/20",
          "2/10/20",
          "2/7/20",
          "2/8/20",
          "2/4/20",
          "2/3/20",
          "2/6/20",
          "2/5/20",
          "2/2/20",
          "2/1/20",
          "1/31/20",
          "1/29/20",
          "1/30/20",
          "1/28/20",
          "1/27/20",
          "1/24/20",
          "1/22/20",
          "1/23/20",
          "1/25/20",
          "1/26/20"
         ],
         "y": [
          7272,
          5795,
          4585,
          3675,
          2078,
          1908,
          1457,
          1176,
          1040,
          799,
          670,
          482,
          262,
          196,
          159,
          130,
          79,
          48,
          46,
          27,
          17,
          16,
          16,
          16,
          16,
          16,
          16,
          16,
          16,
          16,
          16,
          16,
          16,
          16,
          16,
          14,
          14,
          13,
          13,
          12,
          12,
          12,
          12,
          10,
          8,
          5,
          4,
          4,
          4,
          1,
          0,
          0,
          0,
          0,
          0
         ]
        }
       ],
       "layout": {
        "template": {
         "data": {
          "bar": [
           {
            "error_x": {
             "color": "#2a3f5f"
            },
            "error_y": {
             "color": "#2a3f5f"
            },
            "marker": {
             "line": {
              "color": "#E5ECF6",
              "width": 0.5
             }
            },
            "type": "bar"
           }
          ],
          "barpolar": [
           {
            "marker": {
             "line": {
              "color": "#E5ECF6",
              "width": 0.5
             }
            },
            "type": "barpolar"
           }
          ],
          "carpet": [
           {
            "aaxis": {
             "endlinecolor": "#2a3f5f",
             "gridcolor": "white",
             "linecolor": "white",
             "minorgridcolor": "white",
             "startlinecolor": "#2a3f5f"
            },
            "baxis": {
             "endlinecolor": "#2a3f5f",
             "gridcolor": "white",
             "linecolor": "white",
             "minorgridcolor": "white",
             "startlinecolor": "#2a3f5f"
            },
            "type": "carpet"
           }
          ],
          "choropleth": [
           {
            "colorbar": {
             "outlinewidth": 0,
             "ticks": ""
            },
            "type": "choropleth"
           }
          ],
          "contour": [
           {
            "colorbar": {
             "outlinewidth": 0,
             "ticks": ""
            },
            "colorscale": [
             [
              0,
              "#0d0887"
             ],
             [
              0.1111111111111111,
              "#46039f"
             ],
             [
              0.2222222222222222,
              "#7201a8"
             ],
             [
              0.3333333333333333,
              "#9c179e"
             ],
             [
              0.4444444444444444,
              "#bd3786"
             ],
             [
              0.5555555555555556,
              "#d8576b"
             ],
             [
              0.6666666666666666,
              "#ed7953"
             ],
             [
              0.7777777777777778,
              "#fb9f3a"
             ],
             [
              0.8888888888888888,
              "#fdca26"
             ],
             [
              1,
              "#f0f921"
             ]
            ],
            "type": "contour"
           }
          ],
          "contourcarpet": [
           {
            "colorbar": {
             "outlinewidth": 0,
             "ticks": ""
            },
            "type": "contourcarpet"
           }
          ],
          "heatmap": [
           {
            "colorbar": {
             "outlinewidth": 0,
             "ticks": ""
            },
            "colorscale": [
             [
              0,
              "#0d0887"
             ],
             [
              0.1111111111111111,
              "#46039f"
             ],
             [
              0.2222222222222222,
              "#7201a8"
             ],
             [
              0.3333333333333333,
              "#9c179e"
             ],
             [
              0.4444444444444444,
              "#bd3786"
             ],
             [
              0.5555555555555556,
              "#d8576b"
             ],
             [
              0.6666666666666666,
              "#ed7953"
             ],
             [
              0.7777777777777778,
              "#fb9f3a"
             ],
             [
              0.8888888888888888,
              "#fdca26"
             ],
             [
              1,
              "#f0f921"
             ]
            ],
            "type": "heatmap"
           }
          ],
          "heatmapgl": [
           {
            "colorbar": {
             "outlinewidth": 0,
             "ticks": ""
            },
            "colorscale": [
             [
              0,
              "#0d0887"
             ],
             [
              0.1111111111111111,
              "#46039f"
             ],
             [
              0.2222222222222222,
              "#7201a8"
             ],
             [
              0.3333333333333333,
              "#9c179e"
             ],
             [
              0.4444444444444444,
              "#bd3786"
             ],
             [
              0.5555555555555556,
              "#d8576b"
             ],
             [
              0.6666666666666666,
              "#ed7953"
             ],
             [
              0.7777777777777778,
              "#fb9f3a"
             ],
             [
              0.8888888888888888,
              "#fdca26"
             ],
             [
              1,
              "#f0f921"
             ]
            ],
            "type": "heatmapgl"
           }
          ],
          "histogram": [
           {
            "marker": {
             "colorbar": {
              "outlinewidth": 0,
              "ticks": ""
             }
            },
            "type": "histogram"
           }
          ],
          "histogram2d": [
           {
            "colorbar": {
             "outlinewidth": 0,
             "ticks": ""
            },
            "colorscale": [
             [
              0,
              "#0d0887"
             ],
             [
              0.1111111111111111,
              "#46039f"
             ],
             [
              0.2222222222222222,
              "#7201a8"
             ],
             [
              0.3333333333333333,
              "#9c179e"
             ],
             [
              0.4444444444444444,
              "#bd3786"
             ],
             [
              0.5555555555555556,
              "#d8576b"
             ],
             [
              0.6666666666666666,
              "#ed7953"
             ],
             [
              0.7777777777777778,
              "#fb9f3a"
             ],
             [
              0.8888888888888888,
              "#fdca26"
             ],
             [
              1,
              "#f0f921"
             ]
            ],
            "type": "histogram2d"
           }
          ],
          "histogram2dcontour": [
           {
            "colorbar": {
             "outlinewidth": 0,
             "ticks": ""
            },
            "colorscale": [
             [
              0,
              "#0d0887"
             ],
             [
              0.1111111111111111,
              "#46039f"
             ],
             [
              0.2222222222222222,
              "#7201a8"
             ],
             [
              0.3333333333333333,
              "#9c179e"
             ],
             [
              0.4444444444444444,
              "#bd3786"
             ],
             [
              0.5555555555555556,
              "#d8576b"
             ],
             [
              0.6666666666666666,
              "#ed7953"
             ],
             [
              0.7777777777777778,
              "#fb9f3a"
             ],
             [
              0.8888888888888888,
              "#fdca26"
             ],
             [
              1,
              "#f0f921"
             ]
            ],
            "type": "histogram2dcontour"
           }
          ],
          "mesh3d": [
           {
            "colorbar": {
             "outlinewidth": 0,
             "ticks": ""
            },
            "type": "mesh3d"
           }
          ],
          "parcoords": [
           {
            "line": {
             "colorbar": {
              "outlinewidth": 0,
              "ticks": ""
             }
            },
            "type": "parcoords"
           }
          ],
          "pie": [
           {
            "automargin": true,
            "type": "pie"
           }
          ],
          "scatter": [
           {
            "marker": {
             "colorbar": {
              "outlinewidth": 0,
              "ticks": ""
             }
            },
            "type": "scatter"
           }
          ],
          "scatter3d": [
           {
            "line": {
             "colorbar": {
              "outlinewidth": 0,
              "ticks": ""
             }
            },
            "marker": {
             "colorbar": {
              "outlinewidth": 0,
              "ticks": ""
             }
            },
            "type": "scatter3d"
           }
          ],
          "scattercarpet": [
           {
            "marker": {
             "colorbar": {
              "outlinewidth": 0,
              "ticks": ""
             }
            },
            "type": "scattercarpet"
           }
          ],
          "scattergeo": [
           {
            "marker": {
             "colorbar": {
              "outlinewidth": 0,
              "ticks": ""
             }
            },
            "type": "scattergeo"
           }
          ],
          "scattergl": [
           {
            "marker": {
             "colorbar": {
              "outlinewidth": 0,
              "ticks": ""
             }
            },
            "type": "scattergl"
           }
          ],
          "scattermapbox": [
           {
            "marker": {
             "colorbar": {
              "outlinewidth": 0,
              "ticks": ""
             }
            },
            "type": "scattermapbox"
           }
          ],
          "scatterpolar": [
           {
            "marker": {
             "colorbar": {
              "outlinewidth": 0,
              "ticks": ""
             }
            },
            "type": "scatterpolar"
           }
          ],
          "scatterpolargl": [
           {
            "marker": {
             "colorbar": {
              "outlinewidth": 0,
              "ticks": ""
             }
            },
            "type": "scatterpolargl"
           }
          ],
          "scatterternary": [
           {
            "marker": {
             "colorbar": {
              "outlinewidth": 0,
              "ticks": ""
             }
            },
            "type": "scatterternary"
           }
          ],
          "surface": [
           {
            "colorbar": {
             "outlinewidth": 0,
             "ticks": ""
            },
            "colorscale": [
             [
              0,
              "#0d0887"
             ],
             [
              0.1111111111111111,
              "#46039f"
             ],
             [
              0.2222222222222222,
              "#7201a8"
             ],
             [
              0.3333333333333333,
              "#9c179e"
             ],
             [
              0.4444444444444444,
              "#bd3786"
             ],
             [
              0.5555555555555556,
              "#d8576b"
             ],
             [
              0.6666666666666666,
              "#ed7953"
             ],
             [
              0.7777777777777778,
              "#fb9f3a"
             ],
             [
              0.8888888888888888,
              "#fdca26"
             ],
             [
              1,
              "#f0f921"
             ]
            ],
            "type": "surface"
           }
          ],
          "table": [
           {
            "cells": {
             "fill": {
              "color": "#EBF0F8"
             },
             "line": {
              "color": "white"
             }
            },
            "header": {
             "fill": {
              "color": "#C8D4E3"
             },
             "line": {
              "color": "white"
             }
            },
            "type": "table"
           }
          ]
         },
         "layout": {
          "annotationdefaults": {
           "arrowcolor": "#2a3f5f",
           "arrowhead": 0,
           "arrowwidth": 1
          },
          "coloraxis": {
           "colorbar": {
            "outlinewidth": 0,
            "ticks": ""
           }
          },
          "colorscale": {
           "diverging": [
            [
             0,
             "#8e0152"
            ],
            [
             0.1,
             "#c51b7d"
            ],
            [
             0.2,
             "#de77ae"
            ],
            [
             0.3,
             "#f1b6da"
            ],
            [
             0.4,
             "#fde0ef"
            ],
            [
             0.5,
             "#f7f7f7"
            ],
            [
             0.6,
             "#e6f5d0"
            ],
            [
             0.7,
             "#b8e186"
            ],
            [
             0.8,
             "#7fbc41"
            ],
            [
             0.9,
             "#4d9221"
            ],
            [
             1,
             "#276419"
            ]
           ],
           "sequential": [
            [
             0,
             "#0d0887"
            ],
            [
             0.1111111111111111,
             "#46039f"
            ],
            [
             0.2222222222222222,
             "#7201a8"
            ],
            [
             0.3333333333333333,
             "#9c179e"
            ],
            [
             0.4444444444444444,
             "#bd3786"
            ],
            [
             0.5555555555555556,
             "#d8576b"
            ],
            [
             0.6666666666666666,
             "#ed7953"
            ],
            [
             0.7777777777777778,
             "#fb9f3a"
            ],
            [
             0.8888888888888888,
             "#fdca26"
            ],
            [
             1,
             "#f0f921"
            ]
           ],
           "sequentialminus": [
            [
             0,
             "#0d0887"
            ],
            [
             0.1111111111111111,
             "#46039f"
            ],
            [
             0.2222222222222222,
             "#7201a8"
            ],
            [
             0.3333333333333333,
             "#9c179e"
            ],
            [
             0.4444444444444444,
             "#bd3786"
            ],
            [
             0.5555555555555556,
             "#d8576b"
            ],
            [
             0.6666666666666666,
             "#ed7953"
            ],
            [
             0.7777777777777778,
             "#fb9f3a"
            ],
            [
             0.8888888888888888,
             "#fdca26"
            ],
            [
             1,
             "#f0f921"
            ]
           ]
          },
          "colorway": [
           "#636efa",
           "#EF553B",
           "#00cc96",
           "#ab63fa",
           "#FFA15A",
           "#19d3f3",
           "#FF6692",
           "#B6E880",
           "#FF97FF",
           "#FECB52"
          ],
          "font": {
           "color": "#2a3f5f"
          },
          "geo": {
           "bgcolor": "white",
           "lakecolor": "white",
           "landcolor": "#E5ECF6",
           "showlakes": true,
           "showland": true,
           "subunitcolor": "white"
          },
          "hoverlabel": {
           "align": "left"
          },
          "hovermode": "closest",
          "mapbox": {
           "style": "light"
          },
          "paper_bgcolor": "white",
          "plot_bgcolor": "#E5ECF6",
          "polar": {
           "angularaxis": {
            "gridcolor": "white",
            "linecolor": "white",
            "ticks": ""
           },
           "bgcolor": "#E5ECF6",
           "radialaxis": {
            "gridcolor": "white",
            "linecolor": "white",
            "ticks": ""
           }
          },
          "scene": {
           "xaxis": {
            "backgroundcolor": "#E5ECF6",
            "gridcolor": "white",
            "gridwidth": 2,
            "linecolor": "white",
            "showbackground": true,
            "ticks": "",
            "zerolinecolor": "white"
           },
           "yaxis": {
            "backgroundcolor": "#E5ECF6",
            "gridcolor": "white",
            "gridwidth": 2,
            "linecolor": "white",
            "showbackground": true,
            "ticks": "",
            "zerolinecolor": "white"
           },
           "zaxis": {
            "backgroundcolor": "#E5ECF6",
            "gridcolor": "white",
            "gridwidth": 2,
            "linecolor": "white",
            "showbackground": true,
            "ticks": "",
            "zerolinecolor": "white"
           }
          },
          "shapedefaults": {
           "line": {
            "color": "#2a3f5f"
           }
          },
          "ternary": {
           "aaxis": {
            "gridcolor": "white",
            "linecolor": "white",
            "ticks": ""
           },
           "baxis": {
            "gridcolor": "white",
            "linecolor": "white",
            "ticks": ""
           },
           "bgcolor": "#E5ECF6",
           "caxis": {
            "gridcolor": "white",
            "linecolor": "white",
            "ticks": ""
           }
          },
          "title": {
           "x": 0.05
          },
          "xaxis": {
           "automargin": true,
           "gridcolor": "white",
           "linecolor": "white",
           "ticks": "",
           "title": {
            "standoff": 15
           },
           "zerolinecolor": "white",
           "zerolinewidth": 2
          },
          "yaxis": {
           "automargin": true,
           "gridcolor": "white",
           "linecolor": "white",
           "ticks": "",
           "title": {
            "standoff": 15
           },
           "zerolinecolor": "white",
           "zerolinewidth": 2
          }
         }
        },
        "title": {
         "text": "Top 10 countries with confirmed cases"
        },
        "xaxis": {
         "autorange": "reversed"
        }
       }
      },
      "text/html": [
       "<div>\n",
       "        \n",
       "        \n",
       "            <div id=\"6e098af0-e2d0-4eac-abe2-7db46fcf7512\" class=\"plotly-graph-div\" style=\"height:525px; width:100%;\"></div>\n",
       "            <script type=\"text/javascript\">\n",
       "                require([\"plotly\"], function(Plotly) {\n",
       "                    window.PLOTLYENV=window.PLOTLYENV || {};\n",
       "                    \n",
       "                if (document.getElementById(\"6e098af0-e2d0-4eac-abe2-7db46fcf7512\")) {\n",
       "                    Plotly.newPlot(\n",
       "                        '6e098af0-e2d0-4eac-abe2-7db46fcf7512',\n",
       "                        [{\"name\": \"Germany\", \"opacity\": 0.8, \"type\": \"scatter\", \"x\": [\"3/16/20\", \"3/15/20\", \"3/14/20\", \"3/13/20\", \"3/12/20\", \"3/11/20\", \"3/10/20\", \"3/9/20\", \"3/8/20\", \"3/7/20\", \"3/6/20\", \"3/5/20\", \"3/4/20\", \"3/3/20\", \"3/2/20\", \"3/1/20\", \"2/29/20\", \"2/28/20\", \"2/27/20\", \"2/26/20\", \"2/25/20\", \"2/15/20\", \"2/19/20\", \"2/20/20\", \"2/24/20\", \"2/16/20\", \"2/18/20\", \"2/21/20\", \"2/17/20\", \"2/23/20\", \"2/12/20\", \"2/11/20\", \"2/13/20\", \"2/14/20\", \"2/22/20\", \"2/9/20\", \"2/10/20\", \"2/7/20\", \"2/8/20\", \"2/4/20\", \"2/3/20\", \"2/6/20\", \"2/5/20\", \"2/2/20\", \"2/1/20\", \"1/31/20\", \"1/29/20\", \"1/30/20\", \"1/28/20\", \"1/27/20\", \"1/24/20\", \"1/22/20\", \"1/23/20\", \"1/25/20\", \"1/26/20\"], \"y\": [7272, 5795, 4585, 3675, 2078, 1908, 1457, 1176, 1040, 799, 670, 482, 262, 196, 159, 130, 79, 48, 46, 27, 17, 16, 16, 16, 16, 16, 16, 16, 16, 16, 16, 16, 16, 16, 16, 14, 14, 13, 13, 12, 12, 12, 12, 10, 8, 5, 4, 4, 4, 1, 0, 0, 0, 0, 0]}],\n",
       "                        {\"template\": {\"data\": {\"bar\": [{\"error_x\": {\"color\": \"#2a3f5f\"}, \"error_y\": {\"color\": \"#2a3f5f\"}, \"marker\": {\"line\": {\"color\": \"#E5ECF6\", \"width\": 0.5}}, \"type\": \"bar\"}], \"barpolar\": [{\"marker\": {\"line\": {\"color\": \"#E5ECF6\", \"width\": 0.5}}, \"type\": \"barpolar\"}], \"carpet\": [{\"aaxis\": {\"endlinecolor\": \"#2a3f5f\", \"gridcolor\": \"white\", \"linecolor\": \"white\", \"minorgridcolor\": \"white\", \"startlinecolor\": \"#2a3f5f\"}, \"baxis\": {\"endlinecolor\": \"#2a3f5f\", \"gridcolor\": \"white\", \"linecolor\": \"white\", \"minorgridcolor\": \"white\", \"startlinecolor\": \"#2a3f5f\"}, \"type\": \"carpet\"}], \"choropleth\": [{\"colorbar\": {\"outlinewidth\": 0, \"ticks\": \"\"}, \"type\": \"choropleth\"}], \"contour\": [{\"colorbar\": {\"outlinewidth\": 0, \"ticks\": \"\"}, \"colorscale\": [[0.0, \"#0d0887\"], [0.1111111111111111, \"#46039f\"], [0.2222222222222222, \"#7201a8\"], [0.3333333333333333, \"#9c179e\"], [0.4444444444444444, \"#bd3786\"], [0.5555555555555556, \"#d8576b\"], [0.6666666666666666, \"#ed7953\"], [0.7777777777777778, \"#fb9f3a\"], [0.8888888888888888, \"#fdca26\"], [1.0, \"#f0f921\"]], \"type\": \"contour\"}], \"contourcarpet\": [{\"colorbar\": {\"outlinewidth\": 0, \"ticks\": \"\"}, \"type\": \"contourcarpet\"}], \"heatmap\": [{\"colorbar\": {\"outlinewidth\": 0, \"ticks\": \"\"}, \"colorscale\": [[0.0, \"#0d0887\"], [0.1111111111111111, \"#46039f\"], [0.2222222222222222, \"#7201a8\"], [0.3333333333333333, \"#9c179e\"], [0.4444444444444444, \"#bd3786\"], [0.5555555555555556, \"#d8576b\"], [0.6666666666666666, \"#ed7953\"], [0.7777777777777778, \"#fb9f3a\"], [0.8888888888888888, \"#fdca26\"], [1.0, \"#f0f921\"]], \"type\": \"heatmap\"}], \"heatmapgl\": [{\"colorbar\": {\"outlinewidth\": 0, \"ticks\": \"\"}, \"colorscale\": [[0.0, \"#0d0887\"], [0.1111111111111111, \"#46039f\"], [0.2222222222222222, \"#7201a8\"], [0.3333333333333333, \"#9c179e\"], [0.4444444444444444, \"#bd3786\"], [0.5555555555555556, \"#d8576b\"], [0.6666666666666666, \"#ed7953\"], [0.7777777777777778, \"#fb9f3a\"], [0.8888888888888888, \"#fdca26\"], [1.0, \"#f0f921\"]], \"type\": \"heatmapgl\"}], \"histogram\": [{\"marker\": {\"colorbar\": {\"outlinewidth\": 0, \"ticks\": \"\"}}, \"type\": \"histogram\"}], \"histogram2d\": [{\"colorbar\": {\"outlinewidth\": 0, \"ticks\": \"\"}, \"colorscale\": [[0.0, \"#0d0887\"], [0.1111111111111111, \"#46039f\"], [0.2222222222222222, \"#7201a8\"], [0.3333333333333333, \"#9c179e\"], [0.4444444444444444, \"#bd3786\"], [0.5555555555555556, \"#d8576b\"], [0.6666666666666666, \"#ed7953\"], [0.7777777777777778, \"#fb9f3a\"], [0.8888888888888888, \"#fdca26\"], [1.0, \"#f0f921\"]], \"type\": \"histogram2d\"}], \"histogram2dcontour\": [{\"colorbar\": {\"outlinewidth\": 0, \"ticks\": \"\"}, \"colorscale\": [[0.0, \"#0d0887\"], [0.1111111111111111, \"#46039f\"], [0.2222222222222222, \"#7201a8\"], [0.3333333333333333, \"#9c179e\"], [0.4444444444444444, \"#bd3786\"], [0.5555555555555556, \"#d8576b\"], [0.6666666666666666, \"#ed7953\"], [0.7777777777777778, \"#fb9f3a\"], [0.8888888888888888, \"#fdca26\"], [1.0, \"#f0f921\"]], \"type\": \"histogram2dcontour\"}], \"mesh3d\": [{\"colorbar\": {\"outlinewidth\": 0, \"ticks\": \"\"}, \"type\": \"mesh3d\"}], \"parcoords\": [{\"line\": {\"colorbar\": {\"outlinewidth\": 0, \"ticks\": \"\"}}, \"type\": \"parcoords\"}], \"pie\": [{\"automargin\": true, \"type\": \"pie\"}], \"scatter\": [{\"marker\": {\"colorbar\": {\"outlinewidth\": 0, \"ticks\": \"\"}}, \"type\": \"scatter\"}], \"scatter3d\": [{\"line\": {\"colorbar\": {\"outlinewidth\": 0, \"ticks\": \"\"}}, \"marker\": {\"colorbar\": {\"outlinewidth\": 0, \"ticks\": \"\"}}, \"type\": \"scatter3d\"}], \"scattercarpet\": [{\"marker\": {\"colorbar\": {\"outlinewidth\": 0, \"ticks\": \"\"}}, \"type\": \"scattercarpet\"}], \"scattergeo\": [{\"marker\": {\"colorbar\": {\"outlinewidth\": 0, \"ticks\": \"\"}}, \"type\": \"scattergeo\"}], \"scattergl\": [{\"marker\": {\"colorbar\": {\"outlinewidth\": 0, \"ticks\": \"\"}}, \"type\": \"scattergl\"}], \"scattermapbox\": [{\"marker\": {\"colorbar\": {\"outlinewidth\": 0, \"ticks\": \"\"}}, \"type\": \"scattermapbox\"}], \"scatterpolar\": [{\"marker\": {\"colorbar\": {\"outlinewidth\": 0, \"ticks\": \"\"}}, \"type\": \"scatterpolar\"}], \"scatterpolargl\": [{\"marker\": {\"colorbar\": {\"outlinewidth\": 0, \"ticks\": \"\"}}, \"type\": \"scatterpolargl\"}], \"scatterternary\": [{\"marker\": {\"colorbar\": {\"outlinewidth\": 0, \"ticks\": \"\"}}, \"type\": \"scatterternary\"}], \"surface\": [{\"colorbar\": {\"outlinewidth\": 0, \"ticks\": \"\"}, \"colorscale\": [[0.0, \"#0d0887\"], [0.1111111111111111, \"#46039f\"], [0.2222222222222222, \"#7201a8\"], [0.3333333333333333, \"#9c179e\"], [0.4444444444444444, \"#bd3786\"], [0.5555555555555556, \"#d8576b\"], [0.6666666666666666, \"#ed7953\"], [0.7777777777777778, \"#fb9f3a\"], [0.8888888888888888, \"#fdca26\"], [1.0, \"#f0f921\"]], \"type\": \"surface\"}], \"table\": [{\"cells\": {\"fill\": {\"color\": \"#EBF0F8\"}, \"line\": {\"color\": \"white\"}}, \"header\": {\"fill\": {\"color\": \"#C8D4E3\"}, \"line\": {\"color\": \"white\"}}, \"type\": \"table\"}]}, \"layout\": {\"annotationdefaults\": {\"arrowcolor\": \"#2a3f5f\", \"arrowhead\": 0, \"arrowwidth\": 1}, \"coloraxis\": {\"colorbar\": {\"outlinewidth\": 0, \"ticks\": \"\"}}, \"colorscale\": {\"diverging\": [[0, \"#8e0152\"], [0.1, \"#c51b7d\"], [0.2, \"#de77ae\"], [0.3, \"#f1b6da\"], [0.4, \"#fde0ef\"], [0.5, \"#f7f7f7\"], [0.6, \"#e6f5d0\"], [0.7, \"#b8e186\"], [0.8, \"#7fbc41\"], [0.9, \"#4d9221\"], [1, \"#276419\"]], \"sequential\": [[0.0, \"#0d0887\"], [0.1111111111111111, \"#46039f\"], [0.2222222222222222, \"#7201a8\"], [0.3333333333333333, \"#9c179e\"], [0.4444444444444444, \"#bd3786\"], [0.5555555555555556, \"#d8576b\"], [0.6666666666666666, \"#ed7953\"], [0.7777777777777778, \"#fb9f3a\"], [0.8888888888888888, \"#fdca26\"], [1.0, \"#f0f921\"]], \"sequentialminus\": [[0.0, \"#0d0887\"], [0.1111111111111111, \"#46039f\"], [0.2222222222222222, \"#7201a8\"], [0.3333333333333333, \"#9c179e\"], [0.4444444444444444, \"#bd3786\"], [0.5555555555555556, \"#d8576b\"], [0.6666666666666666, \"#ed7953\"], [0.7777777777777778, \"#fb9f3a\"], [0.8888888888888888, \"#fdca26\"], [1.0, \"#f0f921\"]]}, \"colorway\": [\"#636efa\", \"#EF553B\", \"#00cc96\", \"#ab63fa\", \"#FFA15A\", \"#19d3f3\", \"#FF6692\", \"#B6E880\", \"#FF97FF\", \"#FECB52\"], \"font\": {\"color\": \"#2a3f5f\"}, \"geo\": {\"bgcolor\": \"white\", \"lakecolor\": \"white\", \"landcolor\": \"#E5ECF6\", \"showlakes\": true, \"showland\": true, \"subunitcolor\": \"white\"}, \"hoverlabel\": {\"align\": \"left\"}, \"hovermode\": \"closest\", \"mapbox\": {\"style\": \"light\"}, \"paper_bgcolor\": \"white\", \"plot_bgcolor\": \"#E5ECF6\", \"polar\": {\"angularaxis\": {\"gridcolor\": \"white\", \"linecolor\": \"white\", \"ticks\": \"\"}, \"bgcolor\": \"#E5ECF6\", \"radialaxis\": {\"gridcolor\": \"white\", \"linecolor\": \"white\", \"ticks\": \"\"}}, \"scene\": {\"xaxis\": {\"backgroundcolor\": \"#E5ECF6\", \"gridcolor\": \"white\", \"gridwidth\": 2, \"linecolor\": \"white\", \"showbackground\": true, \"ticks\": \"\", \"zerolinecolor\": \"white\"}, \"yaxis\": {\"backgroundcolor\": \"#E5ECF6\", \"gridcolor\": \"white\", \"gridwidth\": 2, \"linecolor\": \"white\", \"showbackground\": true, \"ticks\": \"\", \"zerolinecolor\": \"white\"}, \"zaxis\": {\"backgroundcolor\": \"#E5ECF6\", \"gridcolor\": \"white\", \"gridwidth\": 2, \"linecolor\": \"white\", \"showbackground\": true, \"ticks\": \"\", \"zerolinecolor\": \"white\"}}, \"shapedefaults\": {\"line\": {\"color\": \"#2a3f5f\"}}, \"ternary\": {\"aaxis\": {\"gridcolor\": \"white\", \"linecolor\": \"white\", \"ticks\": \"\"}, \"baxis\": {\"gridcolor\": \"white\", \"linecolor\": \"white\", \"ticks\": \"\"}, \"bgcolor\": \"#E5ECF6\", \"caxis\": {\"gridcolor\": \"white\", \"linecolor\": \"white\", \"ticks\": \"\"}}, \"title\": {\"x\": 0.05}, \"xaxis\": {\"automargin\": true, \"gridcolor\": \"white\", \"linecolor\": \"white\", \"ticks\": \"\", \"title\": {\"standoff\": 15}, \"zerolinecolor\": \"white\", \"zerolinewidth\": 2}, \"yaxis\": {\"automargin\": true, \"gridcolor\": \"white\", \"linecolor\": \"white\", \"ticks\": \"\", \"title\": {\"standoff\": 15}, \"zerolinecolor\": \"white\", \"zerolinewidth\": 2}}}, \"title\": {\"text\": \"Top 10 countries with confirmed cases\"}, \"xaxis\": {\"autorange\": \"reversed\"}},\n",
       "                        {\"responsive\": true}\n",
       "                    ).then(function(){\n",
       "                            \n",
       "var gd = document.getElementById('6e098af0-e2d0-4eac-abe2-7db46fcf7512');\n",
       "var x = new MutationObserver(function (mutations, observer) {{\n",
       "        var display = window.getComputedStyle(gd).display;\n",
       "        if (!display || display === 'none') {{\n",
       "            console.log([gd, 'removed!']);\n",
       "            Plotly.purge(gd);\n",
       "            observer.disconnect();\n",
       "        }}\n",
       "}});\n",
       "\n",
       "// Listen for the removal of the full notebook cells\n",
       "var notebookContainer = gd.closest('#notebook-container');\n",
       "if (notebookContainer) {{\n",
       "    x.observe(notebookContainer, {childList: true});\n",
       "}}\n",
       "\n",
       "// Listen for the clearing of the current output cell\n",
       "var outputEl = gd.closest('.output');\n",
       "if (outputEl) {{\n",
       "    x.observe(outputEl, {childList: true});\n",
       "}}\n",
       "\n",
       "                        })\n",
       "                };\n",
       "                });\n",
       "            </script>\n",
       "        </div>"
      ]
     },
     "metadata": {},
     "output_type": "display_data"
    },
    {
     "data": {
      "text/plain": [
       "'/Users/andang/Documents/workspace/private/python/COVID-19-Dashboard/html-graphs/Top 10 countries with confirmed cases.html'"
      ]
     },
     "execution_count": 12,
     "metadata": {},
     "output_type": "execute_result"
    }
   ],
   "source": [
    "fig = go.Figure()\n",
    "\n",
    "for country in countries:\n",
    "    conf_country = transformed_covid_conf[transformed_covid_conf['Country/Region'] == country]\n",
    "    \n",
    "    fig.add_trace(go.Scatter(\n",
    "        x=conf_country.Date,\n",
    "        y=conf_country.Value,\n",
    "        name=country,\n",
    "        opacity=0.8,))\n",
    "\n",
    "# Layout update \n",
    "fig.update_layout(title_text=\"Top 10 countries with confirmed cases\")\n",
    "\n",
    "# Reversed xaxis\n",
    "fig['layout']['xaxis']['autorange'] = \"reversed\"\n",
    "\n",
    "fig.show()\n",
    "plot(fig, filename=PLOT_PATH + 'Top 10 countries with confirmed cases.html', auto_open=False)"
   ]
  },
  {
   "cell_type": "code",
   "execution_count": null,
   "metadata": {},
   "outputs": [],
   "source": []
  }
 ],
 "metadata": {
  "kernelspec": {
   "display_name": "Python 3",
   "language": "python",
   "name": "python3"
  },
  "language_info": {
   "codemirror_mode": {
    "name": "ipython",
    "version": 3
   },
   "file_extension": ".py",
   "mimetype": "text/x-python",
   "name": "python",
   "nbconvert_exporter": "python",
   "pygments_lexer": "ipython3",
   "version": "3.7.6"
  },
  "toc": {
   "base_numbering": 1,
   "nav_menu": {},
   "number_sections": true,
   "sideBar": true,
   "skip_h1_title": false,
   "title_cell": "Table of Contents",
   "title_sidebar": "Contents",
   "toc_cell": false,
   "toc_position": {},
   "toc_section_display": true,
   "toc_window_display": true
  }
 },
 "nbformat": 4,
 "nbformat_minor": 4
}
